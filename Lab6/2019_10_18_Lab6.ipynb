{
 "cells": [
  {
   "cell_type": "markdown",
   "metadata": {},
   "source": [
    "# Lab 6: Alignment\n",
    "\n",
    "# Notes to the Grader:\n",
    "- As before, please give me all the feedback you can! Even mundane things about formatting or style, I'd really appreciate it"
   ]
  },
  {
   "cell_type": "markdown",
   "metadata": {},
   "source": [
    "# Testing Bowtie2 #\n",
    "# Sample 1: data/Lab6_data/mixed_reads1.fastq\n",
    "**Command**: bowtie2 --very-fast --no-unal -x /data/references/hg19/hg19 -U /data/Lab6_data/mixed_reads1.fastq -S 2019_10_18_mixed_1.sam --un 2019_10_18_unaligned1.fastq\n",
    "\n",
    "Output: \n",
    "1285441 (100.00%) were unpaired; of these:\n",
    "    1030006 (80.13%) aligned 0 times\n",
    "    234344 (18.23%) aligned exactly 1 time\n",
    "    21091 (1.64%) aligned >1 times\n",
    "19.87% overall alignment rate\n",
    "\n",
    "Thus ~19.87% of reads are likely from human contaminants\n",
    "\n",
    "# Sample 2: /data/Lab6_data/mixed_reads2.fastq\n",
    "Command: bowtie2 --very-fast --no-unal -x /data/references/hg19/hg19 -U /data/Lab6_data/mixed_reads2.fastq -S 2019_10_18_mixed_2.sam --un 2019_10_18_unaligned2.fastq\n",
    "\n",
    "Output:\n",
    "1285441 reads; of these:\n",
    "  1285441 (100.00%) were unpaired; of these:\n",
    "    1030191 (80.14%) aligned 0 times\n",
    "    234139 (18.21%) aligned exactly 1 time\n",
    "    21111 (1.64%) aligned >1 times\n",
    "19.86% overall alignment rate\n",
    "\n",
    "Thus, 19.86% of the reads are likely from human contaminants "
   ]
  },
  {
   "cell_type": "code",
   "execution_count": null,
   "metadata": {},
   "outputs": [],
   "source": []
  },
  {
   "cell_type": "markdown",
   "metadata": {},
   "source": [
    "# Bowtie2 on aligned Reads:\n",
    "2019_10_18_unaligned2.fastq and 2019_10_18_unaligned1.fastq now contain likely bacterial reads:\n",
    "\n",
    "We now want to see how much is present of bacterial dna\n",
    "\n",
    "Shawllana database found here: /data/references/shewanella_oneidensis_mr-1/shewanella_oneidensis_mr-1\n",
    "\n",
    "# For Sample 1: \n",
    "**Command**:\n",
    "bowtie2 --very-fast --no-unal -x /data/references/shewanella_oneidensis_mr-1/shewanella_oneidensis_mr-1 -U ./2019_10_18_unaligned1.fastq -S 2019_10_18_nonhuman_1.sam --un 2019_10_18_nonhuman_nonshewnella_1\n",
    ".fastq\n",
    "\n",
    "1030006 reads; of these:\n",
    "  1030006 (100.00%) were unpaired; of these:\n",
    "    268017 (26.02%) aligned 0 times\n",
    "    710825 (69.01%) aligned exactly 1 time\n",
    "    51164 (4.97%) aligned >1 times\n",
    "73.98% overall alignment rate\n",
    "\n",
    "## For Sample 2:\n",
    "bowtie2 --very-fast --no-unal -x /data/references/shewanella_oneidensis_mr-1/shewanella_oneidensis_mr-1 -U ./2019_10_18_unaligned2.fastq -S 2019_10_18_nonhuman_2.sam --un 2019_10_18_nonhuman_nonshewnella_2.fastq\n",
    "\n",
    "1030191 reads; of these:\n",
    "  1030191 (100.00%) were unpaired; of these:\n",
    "    465755 (45.21%) aligned 0 times\n",
    "    528050 (51.26%) aligned exactly 1 time\n",
    "    36386 (3.53%) aligned >1 times\n",
    "54.79% overall alignment rate\n",
    "\n",
    "# Outputs with \"Very sensitive\":\n",
    "## Sample 1:\n",
    "(Relatively similar)\n",
    "1030006 reads; of these:\n",
    "  1030006 (100.00%) were unpaired; of these:\n",
    "    266514 (25.87%) aligned 0 times\n",
    "    711311 (69.06%) aligned exactly 1 time\n",
    "    52181 (5.07%) aligned >1 times\n",
    "74.13% overall alignment rate\n",
    "\n",
    "## Sample 2:\n",
    "1030191 reads; of these:\n",
    "  1030191 (100.00%) were unpaired; of these:\n",
    "    462099 (44.86%) aligned 0 times\n",
    "    530858 (51.53%) aligned exactly 1 time\n",
    "    37234 (3.61%) aligned >1 times\n",
    "55.14% overall alignment rate"
   ]
  },
  {
   "cell_type": "markdown",
   "metadata": {},
   "source": [
    "## Converting to BAM and finding depth:\n",
    "** Commands Run: **\n",
    "samtools view -S -b 2019_10_18_nonhuman_1.sam > 2019_10_18_nonhuman_1.bam\n",
    "  479  samtools view -S -b 2019_10_18_nonhuman_2.sam > 2019_10_18_nonhuman_2.bam\n",
    "  480  samtools sort 2019_10_18_nonhuman_1.bam > 2019_10_18_nonhuman_1_sorted.bam\n",
    "  483  samtools sort 2019_10_18_nonhuman_2.bam > 2019_10_18_nonhuman_2_sorted.bam\n",
    "  486  history|grep samtools|less\n",
    "  487  samtools index 2019_10_18_nonhuman_2_sorted.bam\n",
    "  488  samtools index 2019_10_18_nonhuman_1_sorted.bam\n",
    "  490  history|grep samtools|less\n",
    "  491  samtools depth 2019_10_18_nonhuman_2_sorted.bam -a > 2019_10_18_nonhuman_2_depth.tab\n",
    "  492  samtools depth 2019_10_18_nonhuman_1_sorted.bam -a > 2019_10_18_nonhuman_1_depth.tab\n",
    "  \n",
    "  "
   ]
  },
  {
   "cell_type": "markdown",
   "metadata": {},
   "source": [
    "# Answers to Questions; Compiled:\n",
    "\n",
    "## What\twill\tyou\tuse\tfor\tthe\tdatabase?:\n",
    "Since bowtie functions by using string matching to find its index files, I used \"/data/references/hg19/hg19\" which points bowtie to all files in */data/references/hg19/* that start with \"hg19\"\n",
    "\n",
    "## Input Reads?\n",
    "The input reads:\n",
    "/data/Lab6_data/mixed_reads1.fastq\n",
    "/data/Lab6_data/mixed_reads2.fastq\n",
    "\n",
    "## If\tyou\tuse\tthe\t--un\tunaligned.fastq\toption,\twhat\twill\tunaligned.fastq\tcontain?\n",
    "The unaligned.fastq contains the sequencing reads that did not align to the genome with sufficient matching percentage.\n",
    "\n",
    "\n",
    "# Aligning to Bacterium:\n",
    "\n",
    "## If\tyou\tuse\tthe\t--un\tunaligned.fastq\toption,\twhat\twill\tunaligned.fastq\tcontain?\n",
    "For the respective sample ({1, 2}), the unaligned.fastq contains reads that did not align to the Shewanella genome. And since they are filtered reads, they also do not align to the Human genome either.\n",
    "\n",
    "## What\tpercentage\tof\tyour\tfiltered\tlibrary\tdidn’t\talign\tto\tthe\treference\tgenome? If\tyou\tuse\t--verysensitive\tinstead\tof\t--very-fast,\tdoes\tthis\tpercentage\tincrease\tor\tdecrease?\n",
    "(See above for numbers). This percentage increases, but very minimally\n",
    "\n",
    "## What\tis\tthe\tmin,\tmax,\tand\tmean\tcoverage\tacross\tall\tpositions?\n",
    "(Statistics shown below the coverage plots)"
   ]
  },
  {
   "cell_type": "code",
   "execution_count": 51,
   "metadata": {},
   "outputs": [
    {
     "data": {
      "image/png": "[encoded data removed]",
      "text/plain": [
       "<Figure size 432x288 with 1 Axes>"
      ]
     },
     "metadata": {
      "needs_background": "light"
     },
     "output_type": "display_data"
    }
   ],
   "source": [
    "# Coverage for Sample 1:\n",
    "\n",
    "import pandas\n",
    "import pandas as pd\n",
    "import matplotlib.pyplot as plt\n",
    "x = pandas.read_csv(\"2019_10_18_nonhuman_1_depth.tab\", sep='\\t', header=-1)\n",
    "# print(x)\n",
    "\n",
    "# For simplicity, only show the first 10^6 positions\n",
    "numPos = 10000\n",
    "\n",
    "positions = list(x[1][0:numPos])\n",
    "counts = list(x[2][0:numPos])\n",
    "# print(counts[0:100], positions[0:100])\n",
    "plt.bar(x = positions , height = counts)\n",
    "plt.xlabel(\"Position\")\n",
    "plt.ylabel(\"Coverage\")\n",
    "plt.show()\n",
    "\n",
    "# freq = count(counts)\n",
    "# print(freq)\n"
   ]
  },
  {
   "cell_type": "code",
   "execution_count": 67,
   "metadata": {},
   "outputs": [
    {
     "data": {
      "image/png": "[encoded data removed]",
      "text/plain": [
       "<Figure size 432x288 with 1 Axes>"
      ]
     },
     "metadata": {
      "needs_background": "light"
     },
     "output_type": "display_data"
    },
    {
     "name": "stdout",
     "output_type": "stream",
     "text": [
      "Min: 0\n",
      "Max: 64\n",
      "Mean: 33.8738\n"
     ]
    }
   ],
   "source": [
    "counts.sort()\n",
    "# print(counts)\n",
    "from itertools import groupby\n",
    "import statistics\n",
    "freqs = [len(list(group)) for key, group in groupby(counts)]\n",
    "\n",
    "plt.bar(x = list(range(1, len(freqs)+1)) , height = freqs)\n",
    "plt.xlabel(\"Position\")\n",
    "plt.ylabel(\"Coverage\")\n",
    "plt.show()\n",
    "print(\"Min: \" + str(min(counts)))\n",
    "print(\"Max: \" + str(max(counts)))\n",
    "print(\"Mean: \" + str(statistics.mean(counts)))"
   ]
  },
  {
   "cell_type": "code",
   "execution_count": 50,
   "metadata": {},
   "outputs": [
    {
     "data": {
      "image/png": "[encoded data removed]",
      "text/plain": [
       "<Figure size 432x288 with 1 Axes>"
      ]
     },
     "metadata": {
      "needs_background": "light"
     },
     "output_type": "display_data"
    }
   ],
   "source": [
    "# For sample 2:\n",
    "# ! ls\n",
    "import pandas\n",
    "import pandas as pd\n",
    "import matplotlib.pyplot as plt\n",
    "x = pandas.read_csv(\"2019_10_18_nonhuman_2_depth.tab\", sep='\\t', header=-1)\n",
    "# print(x)\n",
    "\n",
    "# For simplicity, only show the first 10^6 positions\n",
    "numPos = 10000\n",
    "\n",
    "positions = list(x[1][0:numPos])\n",
    "counts = list(x[2][0:numPos])\n",
    "# print(counts[0:100], positions[0:100])\n",
    "plt.bar(x = positions , height = counts)\n",
    "plt.xlabel(\"Position\")\n",
    "plt.ylabel(\"Coverage\")\n",
    "plt.show()\n",
    "\n",
    "# freq = count(counts)\n",
    "# print(freq)\n"
   ]
  },
  {
   "cell_type": "code",
   "execution_count": 68,
   "metadata": {
    "scrolled": true
   },
   "outputs": [
    {
     "data": {
      "image/png": "[encoded data removed]",
      "text/plain": [
       "<Figure size 432x288 with 1 Axes>"
      ]
     },
     "metadata": {
      "needs_background": "light"
     },
     "output_type": "display_data"
    },
    {
     "name": "stdout",
     "output_type": "stream",
     "text": [
      "Min: 0\n",
      "Max: 64\n",
      "Mean: 33.8738\n"
     ]
    }
   ],
   "source": [
    "# Stolen from this stack overflow page: \n",
    "    # https://stackoverflow.com/questions/2161752/how-to-count-the-frequency-of-the-elements-in-a-list/2162045\n",
    "# print(counts)\n",
    "# print(type(counts))\n",
    "counts.sort()\n",
    "# print(counts)\n",
    "from itertools import groupby\n",
    "import statistics\n",
    "freqs = [len(list(group)) for key, group in groupby(counts)]\n",
    "\n",
    "plt.bar(x = list(range(1, len(freqs)+1)) , height = freqs)\n",
    "plt.xlabel(\"Position\")\n",
    "plt.ylabel(\"Coverage\")\n",
    "plt.show()\n",
    "print(\"Min: \" + str(min(counts)))\n",
    "print(\"Max: \" + str(max(counts)))\n",
    "print(\"Mean: \" + str(statistics.mean(counts)))"
   ]
  },
  {
   "cell_type": "code",
   "execution_count": null,
   "metadata": {},
   "outputs": [],
   "source": []
  },
  {
   "cell_type": "code",
   "execution_count": null,
   "metadata": {},
   "outputs": [],
   "source": []
  },
  {
   "cell_type": "code",
   "execution_count": null,
   "metadata": {},
   "outputs": [],
   "source": [
    "def extract_coverage(tab_file):\n",
    "    "
   ]
  }
 ],
 "metadata": {
  "kernelspec": {
   "display_name": "Python 3",
   "language": "python",
   "name": "python3"
  },
  "language_info": {
   "codemirror_mode": {
    "name": "ipython",
    "version": 3
   },
   "file_extension": ".py",
   "mimetype": "text/x-python",
   "name": "python",
   "nbconvert_exporter": "python",
   "pygments_lexer": "ipython3",
   "version": "3.7.3"
  }
 },
 "nbformat": 4,
 "nbformat_minor": 2
}
