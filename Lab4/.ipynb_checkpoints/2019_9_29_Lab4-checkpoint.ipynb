{
 "cells": [
  {
   "cell_type": "code",
   "execution_count": 1,
   "metadata": {
    "scrolled": true
   },
   "outputs": [
    {
     "name": "stdout",
     "output_type": "stream",
     "text": [
      "2019_9_29_Lab4.ipynb\t mus musculus_leptin.fa\r\n",
      "fixedLargeFileError.txt  mus musculus_leptin.gb\r\n"
     ]
    }
   ],
   "source": [
    "!ls"
   ]
  },
  {
   "cell_type": "code",
   "execution_count": null,
   "metadata": {},
   "outputs": [],
   "source": []
  },
  {
   "cell_type": "code",
   "execution_count": 2,
   "metadata": {},
   "outputs": [],
   "source": [
    "import sqlite3\n",
    "from Bio import Entrez\n",
    "from Bio.Seq import Seq\n",
    "from Bio.SeqRecord import SeqRecord\n",
    "from Bio.Alphabet import generic_protein\n",
    "from Bio import SeqIO\n",
    "import time"
   ]
  },
  {
   "cell_type": "code",
   "execution_count": 3,
   "metadata": {},
   "outputs": [],
   "source": [
    "# Set up database\n",
    "conn = sqlite3.connect(\"2019_9_29_Lab4_database.db\")\n",
    "c = conn.cursor()\n",
    "c.execute(\"CREATE TABLE genes (geneId TEXT, type TEXT, species TEXT, sequence TEXT)\")\n",
    "conn.commit()"
   ]
  },
  {
   "cell_type": "code",
   "execution_count": 4,
   "metadata": {},
   "outputs": [],
   "source": [
    "# Testing Entrez:\n",
    "Entrez.email = 'jerry.yang@berkeley.edu'\n",
    "handle = Entrez.esearch(db='nucleotide',\n",
    "                       term='homo sapiens[ORGN] leptin',\n",
    "                       sort='relevance',\n",
    "                       idtype='acc',\n",
    "                       retmax = 1)"
   ]
  },
  {
   "cell_type": "code",
   "execution_count": 5,
   "metadata": {},
   "outputs": [],
   "source": [
    "for entry in Entrez.read(handle)['IdList']:\n",
    "    result = Entrez.efetch(db='nucleotide', id=entry, rettype='fasta', retmode='text')\n",
    "    # print(result.read())\n",
    "    \n",
    "    \n",
    "#     for seq_rec in SeqIO.parse(\"seqs.fa\", \"fasta\"):   \n",
    "#     seqs[seq_rec.id] = seq_rec"
   ]
  },
  {
   "cell_type": "code",
   "execution_count": 6,
   "metadata": {},
   "outputs": [],
   "source": [
    "# Creating a helper function to run Entrez\n",
    "def search(term, species='homo sapiens'):\n",
    "    \"\"\" Function to search Entrez for a particular gene, given species and \n",
    "            search term\n",
    "            \n",
    "        Returns the top hit for that search as a dictionary containing the following information:\n",
    "            {   \"organism\": [organism], \n",
    "                \"sequence\": [seq],\n",
    "                \"type\": [rna or dna],\n",
    "                \"geneId\": [geneID]\n",
    "                }\n",
    "            \n",
    "        E.g.\n",
    "        > search(species = \"mus musculus\", 'leptin')\n",
    "        \n",
    "        \n",
    "        \">NM_008493.3 Mus musculus leptin (Lep), mRNA\n",
    "        GAGGGATCCCTGCTCCAGCAGCTGCAAGGTGCAAGAAGAAGAAGATCCCAGGGAGGAAAATGTGCTGGAG ...\"\n",
    "        \n",
    "        \"\"\"\n",
    "    handle = Entrez.esearch(db='nucleotide',\n",
    "                   term='{species}[ORGN] {searchTerm}'.format(species = species, searchTerm = term),\n",
    "                   sort='relevance',\n",
    "                   idtype='acc',\n",
    "                   retmax = 1)\n",
    "    for entry in Entrez.read(handle)['IdList']:\n",
    "        result = Entrez.efetch(db='nucleotide', id=entry, rettype='gb')\n",
    "        # print(result.read())\n",
    "        for rec in SeqIO.parse(result, \"gb\"):\n",
    "            # print(rec.annotations)\n",
    "            return {\"organism\": rec.annotations.get('organism'),\n",
    "                    \"geneID\": rec.annotations.get(\"accessions\")[0],\n",
    "                    \"type\": rec.annotations.get(\"molecule_type\"),\n",
    "                    \"sequence\": str(rec.seq)\n",
    "                    }\n",
    "#             print(rec.annotations.get('organism'))\n",
    "#             print(rec.seq)\n",
    "            \n",
    "    def genOutputFastaName(species, term):\n",
    "        \"\"\" Helper function to systematically generate an output name\"\"\"\n",
    "        return \"{sp}_{term}.gb\".replace(\" \", \"_\").format(sp = species, term = term)\n",
    "    return {\"organism\": \"N/A\",\n",
    "                    \"geneID\": \"N/A\",\n",
    "                    \"type\": \"N/A\",\n",
    "                    \"sequence\": \"N/A\"\n",
    "                    }\n",
    "#     with open(genOutputFastaName(species, term), \"w\") as output_handle:\n",
    "#         gene_data = result.read()\n",
    "        # output_handle.write(gene_data)\n",
    "        \n",
    "        # print(gene_data)\n",
    "# search('leptin', species = 'mus musculus')"
   ]
  },
  {
   "cell_type": "code",
   "execution_count": 7,
   "metadata": {},
   "outputs": [],
   "source": [
    "def addToGeneDB(gene_dict, geneDB):\n",
    "    \"\"\" Adds the particular sequence to the gene database\n",
    "    \n",
    "    Assumes the following parameters for the gene DB:\n",
    "    {geneID, species, type, sequence}\"\"\"\n",
    "\n",
    "    c.execute(\"INSERT INTO genes (geneID, type, species, sequence) VALUES \\\n",
    "                ('{geneID}', '{t}', '{sp}', '{seq}')\".format(geneID = gene_dict.get(\"geneID\"),\n",
    "                                                    t = gene_dict.get(\"type\"),\n",
    "                                                    sp = gene_dict.get(\"organism\"),\n",
    "                                                    seq = gene_dict.get(\"sequence\")))\n",
    "    conn.commit()\n",
    "                                                    "
   ]
  },
  {
   "cell_type": "code",
   "execution_count": 8,
   "metadata": {},
   "outputs": [],
   "source": [
    "addToGeneDB(search('leptin', species = 'mus musculus'), \"genes\")"
   ]
  },
  {
   "cell_type": "code",
   "execution_count": 9,
   "metadata": {},
   "outputs": [
    {
     "data": {
      "text/plain": [
       "{'organism': 'Mus musculus',\n",
       " 'geneID': 'NM_008493',\n",
       " 'type': 'mRNA',\n",
       " 'sequence': 'GAGGGATCCCTGCTCCAGCAGCTGCAAGGTGCAAGAAGAAGAAGATCCCAGGGAGGAAAATGTGCTGGAGACCCCTGTGTCGGTTCCTGTGGCTTTGGTCCTATCTGTCTTATGTTCAAGCAGTGCCTATCCAGAAAGTCCAGGATGACACCAAAACCCTCATCAAGACCATTGTCACCAGGATCAATGACATTTCACACACGCAGTCGGTATCCGCCAAGCAGAGGGTCACTGGCTTGGACTTCATTCCTGGGCTTCACCCCATTCTGAGTTTGTCCAAGATGGACCAGACTCTGGCAGTCTATCAACAGGTCCTCACCAGCCTGCCTTCCCAAAATGTGCTGCAGATAGCCAATGACCTGGAGAATCTCCGAGACCTCCTCCATCTGCTGGCCTTCTCCAAGAGCTGCTCCCTGCCTCAGACCAGTGGCCTGCAGAAGCCAGAGAGCCTGGATGGCGTCCTGGAAGCCTCACTCTACTCCACAGAGGTGGTGGCTTTGAGCAGGCTGCAGGGCTCTCTGCAGGACATTCTTCAACAGTTGGATGTTAGCCCTGAATGCTGAAGTTTCAAAGGCCACCAGGCTCCCAAGAATCATGTAGAGGGAAGAAACCTTGGCTTCCAGGGGTCTTCAGGAGAAGAGAGCCATGTGCACACATCCATCATTCATTTCTCTCCCTCCTGTAGACCACCCATCCAAAGGCATGACTCCACAATGCTTGACTCAAGTTATCCACACAACTTCATGAGCACAAGGAGGGGCCAGCCTGCAGAGGGGACTCTCACCTAGTTCTTCAGCAAGTAGAGATAAGAGCCATCCCATCCCCTCCATGTCCCACCTGCTCCGGGTACATGTTCCTCCGTGGGTACACGCTTCGCTGCGGCCCAGGAGAGGTGAGGTAGGGATGGGTAGAGCCTTTGGGCTGTCTCAGAGTCTTTGGGAGCACCGTGAAGGCTGCATCCACACACAGCTGGAAACTCCCAAGCAGCACACGATGGAAGCACTTATTTATTTATTCTGCATTCTATTTTGGATGGATCTGAAGCAAGCCATCAGCTTTTTCAGGCTTTGGGGGTCAGCCAGGATGAGGAAGGCTCCTGGGGTGCTGCTTTCAATCCTATTGATGGGTCTGCCCAAGGCAAACCTAATTTTTGAGTGACTGGAAGGAAGGTTGGGATCTTCCAAACAAGAGTCTATGCAGGTAGCGCTCAAGCTTGACCTCTGGTGACTGGTTTTGTTTCTATTGTGACTGACTCTATGCAAACACGTTTGCAGCGGCATTGCCGGGAGCATAGGCTAGGTTATTATCAAAAGCAGATGAATTTTGTCAAGTGTAATATGTATCTATGTGCACCTGAGGGTAGAGGATGTGTTAGAGGGAGGGTGAAGGATCCGGAAGTGTTCTCTGAATTACATATGTGTGGTAGGCTTTTCTGAAAGGGTGAGGCATTTTCTTACCTCTGTGGCCACATAGTGTGGCTTTGTGAAAAGGACAAAGGAGTTGACTCTTTCCGGAACATTTGGAGTGTACCAGGCACCCTTGGAGGGGCTAAAGCTACAGGCCTTTTGTTGGCATATTGCTGAGCTCAGGGAGTGAGGGCCCCACATTTGAGACAGTGAGCCCCAAGAAAAGGGTCCCTGGTGTAGATCTCCAAGGTTGTCCAGGGTTGATCTCACAATGCGTTTCTTAAGCAGGTAGACGTTTGCATGCCAATATGTGGTTCTCATCTGATTGGTTCATCCAAAGTAGAACCCTGTCTCCCACCCATTCTGTGGGGAGTTTTGTTCCAGTGGGAATGAGAAATCACTTAGCAGATGGTCCTGAGCCCTGGGCCAGCACTGCTGAGGAAGTGCCAGGGCCCCAGGCCAGGCTGCCAGAATTGCCCTTCGGGCTGGAGGATGAACAAAGGGGCTTGGGTTTTTCCATCACCCCTGCACCCTATGTCACCATCAAACTGGGGGGCAGATCAGTGAGAGGACACTTGATGGAAAGCAATACACTTTAAGACTGAGCACAGTTTCGTGCTCAGCTCTGTCTGGTGCTGTGAGCTAGAGAAGCTCACCAAATACATATAAAAATCAGAGGCTCATGTCCCTGTGGTTAGACCCTACTCACGGCGGTGTACTCCACCACAGCAGCCCCGCACCGCTGGAAGTACAGTGCTGTCTTCAACAGGTGTGAAAGAACCTGAGCTGAGGGTGACAGTGCCCAGGGGAACCCTGCTTGCAGTCTATTGCATTTACATACCGCATTTCAGGGCACATTAGCATCCACTGCTATGGTAGCACACTGTTGACACGGGATACCTGGGGTCGTAAAAATAAGAAAATACAGGTTGACTATCCCTTATCCAAAATGCTTGGGACTAGAAGAGTTTTGGATTTTAGAGTCTTTTCAGGCATAGGTATATTTGAGTATATATAAAATGAGATATCTTGGGGATGGGGCCCAAGTATAAACATGAAGTTCATTTATATTTCATAATACCGTATAGACACTGCTTGAAGTGTAGTTTTATACAGTGTTTTAAATAACGTTGTATGCATGAAAGACGTTTTTACAGCATGAACCTGTCTACTCATGCCAGCACTCAAAAACCTTGGGGTTTTGGAGCAGTTTGGATCTTGGGTTTTCTGTTAAGAGATGGTTAGCTTATACCTAAAACCATAATGGCAAACAGGCTGCAGGACCAGACTGGATCCTCAGCCCTGAAGTGTGCCCTTCCAGCCAGGTCATACCCTGTGGAGGTGAGCGGGATCAGGTTTTGTGGTGCTAAGAGAGGAGTTGGAGGTAGATTTTGGAGGATCTGAGGGGTGATGTGATGTTTTATTGGACACTTGGTATGTTGAAGGGATGAAAGTCCAAACAGGAAGTGACAGGGAAGACTGAAGAGACCGGGAAAGAGTGACAGGAAGTGCTGAGAGGACTTTATGGGCCACAAAAGTGGCTTCTGAAAGATCCCACGTGCCACAGTCTGGAGCGAAGGCTCGTGGTGGCTGGTGTCAGATTGCTCTGGGGCTGTGCTATGCCACCTTGGTCACCTCATCAAGCTGGAATGTCCTGAGCCTTTCGCTCAGAGAACCTTGCACTATGGCTTGTTCCCAGATTGTGAAACTTCCCATATGCAAAAATGCTTGGTTTGGTTTTTTTGGTTTTTGTTTTTGTTTTCTTTTTTAAATACATATATATATGTAACAACAGCAACAACAAAATTTTGTTTTATTTTGTGTCAATTCAAATAAATTAATGATGCCTCC'}"
      ]
     },
     "execution_count": 9,
     "metadata": {},
     "output_type": "execute_result"
    }
   ],
   "source": [
    "search('leptin', species = 'mus musculus')"
   ]
  },
  {
   "cell_type": "code",
   "execution_count": 21,
   "metadata": {},
   "outputs": [],
   "source": [
    "# Input data:\n",
    "genes = {'Glycolysis': [\"alcohol dehydrogenase\", \n",
    "                        \"glucose-1-phosphatase\", \n",
    "                        \"glucose-6-phosphate 1-epimerase\", \n",
    "                       \"glucokinase\"],\n",
    "        'TCA': [\"phosphoenolpyruvate carboxykinase\",\n",
    "               \"pyruvate carboxylase\",\n",
    "               \"korA\", # K00174\n",
    "               \"citrate synthase\"],\n",
    "         'Pentose Phosphate': # [E4.3.1.9, EC 4.2.1.39   ]\n",
    "             [\"glucosaminate ammonia-lyase\", \n",
    "               \"2-dehydro-3-deoxy-phosphogluconate\", \n",
    "              \"gluconate dehydratase\",\n",
    "              \"2-dehydro-3-deoxygluconokinase\"]\n",
    "         \n",
    "        }\n",
    "species = ['Homo sapien', 'Drosophila melanogaster', 'Escherichia coli']\n",
    "# print(\"\\n\".join(genes['Glycolysis']))"
   ]
  },
  {
   "cell_type": "code",
   "execution_count": 19,
   "metadata": {},
   "outputs": [],
   "source": [
    "# Helper function: visualizes the elements in the database\n",
    "def sql_fetch(dbName, con = conn):\n",
    " \n",
    "    cursorObj = con.cursor()\n",
    " \n",
    "    cursorObj.execute('SELECT * FROM {name}'.format(name=dbName))\n",
    " \n",
    "    rows = cursorObj.fetchall()\n",
    " \n",
    "    for row in rows:\n",
    " \n",
    "        print(row)\n",
    "# sql_fetch(conn)"
   ]
  },
  {
   "cell_type": "markdown",
   "metadata": {},
   "source": [
    "# Lab 4 \n",
    "\n",
    "## Database Design \n",
    "\n",
    "### 4 tables:\n",
    "    1.) Gene table: contains tuples of:\n",
    "            {geneID, species, sequence}\n",
    "    2.) Pathway descriptions: contains tuples of:\n",
    "            {pathway name, pathway description}\n",
    "    3.) Enzyme: contains tuples of:\n",
    "            {enzyme name, geneID (, function)}\n",
    "    4.) Pathway_details: contains tuples of:\n",
    "            {enzyme name, A pathway that the enzyme belongs to, index of that enzyme}"
   ]
  },
  {
   "cell_type": "code",
   "execution_count": 12,
   "metadata": {},
   "outputs": [],
   "source": [
    "# Generate the pathway database\n",
    "# def createTable(tableName, fieldsList, typesList):\n",
    "#     pairs = zip(fieldsList, typesList)\n",
    "#     c.execute(\"CREATE TABLE {t} (geneId TEXT, type TEXT, species TEXT, sequence TEXT)\")\n",
    "#     conn.commit()\n",
    "c.execute(\"CREATE TABLE pathway (pathwayName TEXT, protein TEXT)\")\n",
    "conn.commit()"
   ]
  },
  {
   "cell_type": "code",
   "execution_count": 17,
   "metadata": {},
   "outputs": [
    {
     "ename": "TypeError",
     "evalue": "sql_fetch() missing 1 required positional argument: 'dbName'",
     "output_type": "error",
     "traceback": [
      "\u001b[0;31m---------------------------------------------------------------------------\u001b[0m",
      "\u001b[0;31mTypeError\u001b[0m                                 Traceback (most recent call last)",
      "\u001b[0;32m<ipython-input-17-cd38595da41a>\u001b[0m in \u001b[0;36m<module>\u001b[0;34m\u001b[0m\n\u001b[1;32m     15\u001b[0m         \u001b[0maddToPathwayDB\u001b[0m\u001b[0;34m(\u001b[0m\u001b[0mpathway\u001b[0m\u001b[0;34m,\u001b[0m \u001b[0mprotein\u001b[0m \u001b[0;34m,\u001b[0m\u001b[0;34m\"pathway\"\u001b[0m\u001b[0;34m)\u001b[0m\u001b[0;34m\u001b[0m\u001b[0;34m\u001b[0m\u001b[0m\n\u001b[1;32m     16\u001b[0m \u001b[0;34m\u001b[0m\u001b[0m\n\u001b[0;32m---> 17\u001b[0;31m \u001b[0msql_fetch\u001b[0m\u001b[0;34m(\u001b[0m\u001b[0;34m)\u001b[0m\u001b[0;34m\u001b[0m\u001b[0;34m\u001b[0m\u001b[0m\n\u001b[0m",
      "\u001b[0;31mTypeError\u001b[0m: sql_fetch() missing 1 required positional argument: 'dbName'"
     ]
    }
   ],
   "source": [
    "def addToPathwayDB(pathway, protein, geneDB):\n",
    "    \"\"\" Adds the particular sequence to the pathway database\n",
    "    \n",
    "    Assumes the following parameters for the gene DB:\n",
    "    {geneID, species, type, sequence}\"\"\"\n",
    "\n",
    "    c.execute(\"INSERT INTO pathway (pathwayName, protein) VALUES \\\n",
    "                ('{path}', '{prot}')\".format(prot = protein,\n",
    "                                                    path = pathway,\n",
    "                                                    ))\n",
    "    conn.commit()\n",
    "\n",
    "for pathway in genes.keys():\n",
    "    for protein in genes.get(pathway):\n",
    "        addToPathwayDB(pathway, protein ,\"pathway\")\n",
    "        \n"
   ]
  },
  {
   "cell_type": "code",
   "execution_count": 20,
   "metadata": {},
   "outputs": [
    {
     "name": "stdout",
     "output_type": "stream",
     "text": [
      "('Glycolysis', 'alcohol dehydrogenase')\n",
      "('Glycolysis', 'glucokinase')\n",
      "('TCA', 'phosphoenolpyruvate carboxykinase')\n",
      "('TCA', 'pyruvate carboxylase')\n",
      "('TCA', 'korA')\n",
      "('TCA', 'citrate synthase')\n",
      "('Pentose Phosphate', 'glucosaminate ammonia-lyase')\n",
      "('Pentose Phosphate', '2-dehydro-3-deoxy-phosphogluconate')\n",
      "('Pentose Phosphate', 'gluconate dehydratase')\n",
      "('Pentose Phosphate', '2-dehydro-3-deoxygluconokinase')\n",
      "('Glycolysis', 'alcohol dehydrogenase')\n",
      "('Glycolysis', 'glucokinase')\n",
      "('TCA', 'phosphoenolpyruvate carboxykinase')\n",
      "('TCA', 'pyruvate carboxylase')\n",
      "('TCA', 'korA')\n",
      "('TCA', 'citrate synthase')\n",
      "('Pentose Phosphate', 'glucosaminate ammonia-lyase')\n",
      "('Pentose Phosphate', '2-dehydro-3-deoxy-phosphogluconate')\n",
      "('Pentose Phosphate', 'gluconate dehydratase')\n",
      "('Pentose Phosphate', '2-dehydro-3-deoxygluconokinase')\n"
     ]
    }
   ],
   "source": [
    "sql_fetch(\"pathway\")"
   ]
  },
  {
   "cell_type": "code",
   "execution_count": 22,
   "metadata": {},
   "outputs": [
    {
     "ename": "HTTPError",
     "evalue": "HTTP Error 429: Too Many Requests",
     "output_type": "error",
     "traceback": [
      "\u001b[0;31m---------------------------------------------------------------------------\u001b[0m",
      "\u001b[0;31mHTTPError\u001b[0m                                 Traceback (most recent call last)",
      "\u001b[0;32m<ipython-input-22-b1e50b2ae8ae>\u001b[0m in \u001b[0;36m<module>\u001b[0;34m\u001b[0m\n\u001b[1;32m      3\u001b[0m     \u001b[0;32mfor\u001b[0m \u001b[0mkey\u001b[0m \u001b[0;32min\u001b[0m \u001b[0mgenes\u001b[0m\u001b[0;34m.\u001b[0m\u001b[0mkeys\u001b[0m\u001b[0;34m(\u001b[0m\u001b[0;34m)\u001b[0m\u001b[0;34m:\u001b[0m\u001b[0;34m\u001b[0m\u001b[0;34m\u001b[0m\u001b[0m\n\u001b[1;32m      4\u001b[0m         \u001b[0;32mfor\u001b[0m \u001b[0mg\u001b[0m \u001b[0;32min\u001b[0m \u001b[0mgenes\u001b[0m\u001b[0;34m.\u001b[0m\u001b[0mget\u001b[0m\u001b[0;34m(\u001b[0m\u001b[0mkey\u001b[0m\u001b[0;34m)\u001b[0m\u001b[0;34m:\u001b[0m\u001b[0;34m\u001b[0m\u001b[0;34m\u001b[0m\u001b[0m\n\u001b[0;32m----> 5\u001b[0;31m             \u001b[0mresult\u001b[0m \u001b[0;34m=\u001b[0m \u001b[0msearch\u001b[0m\u001b[0;34m(\u001b[0m\u001b[0mg\u001b[0m\u001b[0;34m,\u001b[0m \u001b[0mspecies\u001b[0m\u001b[0;34m=\u001b[0m\u001b[0msp\u001b[0m\u001b[0;34m)\u001b[0m\u001b[0;34m\u001b[0m\u001b[0;34m\u001b[0m\u001b[0m\n\u001b[0m\u001b[1;32m      6\u001b[0m             \u001b[0;31m# print(result)\u001b[0m\u001b[0;34m\u001b[0m\u001b[0;34m\u001b[0m\u001b[0;34m\u001b[0m\u001b[0m\n\u001b[1;32m      7\u001b[0m             \u001b[0maddToGeneDB\u001b[0m\u001b[0;34m(\u001b[0m\u001b[0mresult\u001b[0m\u001b[0;34m,\u001b[0m \u001b[0;34m\"genes\"\u001b[0m\u001b[0;34m)\u001b[0m\u001b[0;34m\u001b[0m\u001b[0;34m\u001b[0m\u001b[0m\n",
      "\u001b[0;32m<ipython-input-6-b038e163909e>\u001b[0m in \u001b[0;36msearch\u001b[0;34m(term, species)\u001b[0m\n\u001b[1;32m     25\u001b[0m                    retmax = 1)\n\u001b[1;32m     26\u001b[0m     \u001b[0;32mfor\u001b[0m \u001b[0mentry\u001b[0m \u001b[0;32min\u001b[0m \u001b[0mEntrez\u001b[0m\u001b[0;34m.\u001b[0m\u001b[0mread\u001b[0m\u001b[0;34m(\u001b[0m\u001b[0mhandle\u001b[0m\u001b[0;34m)\u001b[0m\u001b[0;34m[\u001b[0m\u001b[0;34m'IdList'\u001b[0m\u001b[0;34m]\u001b[0m\u001b[0;34m:\u001b[0m\u001b[0;34m\u001b[0m\u001b[0;34m\u001b[0m\u001b[0m\n\u001b[0;32m---> 27\u001b[0;31m         \u001b[0mresult\u001b[0m \u001b[0;34m=\u001b[0m \u001b[0mEntrez\u001b[0m\u001b[0;34m.\u001b[0m\u001b[0mefetch\u001b[0m\u001b[0;34m(\u001b[0m\u001b[0mdb\u001b[0m\u001b[0;34m=\u001b[0m\u001b[0;34m'nucleotide'\u001b[0m\u001b[0;34m,\u001b[0m \u001b[0mid\u001b[0m\u001b[0;34m=\u001b[0m\u001b[0mentry\u001b[0m\u001b[0;34m,\u001b[0m \u001b[0mrettype\u001b[0m\u001b[0;34m=\u001b[0m\u001b[0;34m'gb'\u001b[0m\u001b[0;34m)\u001b[0m\u001b[0;34m\u001b[0m\u001b[0;34m\u001b[0m\u001b[0m\n\u001b[0m\u001b[1;32m     28\u001b[0m         \u001b[0;31m# print(result.read())\u001b[0m\u001b[0;34m\u001b[0m\u001b[0;34m\u001b[0m\u001b[0;34m\u001b[0m\u001b[0m\n\u001b[1;32m     29\u001b[0m         \u001b[0;32mfor\u001b[0m \u001b[0mrec\u001b[0m \u001b[0;32min\u001b[0m \u001b[0mSeqIO\u001b[0m\u001b[0;34m.\u001b[0m\u001b[0mparse\u001b[0m\u001b[0;34m(\u001b[0m\u001b[0mresult\u001b[0m\u001b[0;34m,\u001b[0m \u001b[0;34m\"gb\"\u001b[0m\u001b[0;34m)\u001b[0m\u001b[0;34m:\u001b[0m\u001b[0;34m\u001b[0m\u001b[0;34m\u001b[0m\u001b[0m\n",
      "\u001b[0;32m/opt/anaconda3/lib/python3.7/site-packages/Bio/Entrez/__init__.py\u001b[0m in \u001b[0;36mefetch\u001b[0;34m(db, **keywords)\u001b[0m\n\u001b[1;32m    193\u001b[0m             \u001b[0;31m# more than about 200 IDs\u001b[0m\u001b[0;34m\u001b[0m\u001b[0;34m\u001b[0m\u001b[0;34m\u001b[0m\u001b[0m\n\u001b[1;32m    194\u001b[0m             \u001b[0mpost\u001b[0m \u001b[0;34m=\u001b[0m \u001b[0;32mTrue\u001b[0m\u001b[0;34m\u001b[0m\u001b[0;34m\u001b[0m\u001b[0m\n\u001b[0;32m--> 195\u001b[0;31m     \u001b[0;32mreturn\u001b[0m \u001b[0m_open\u001b[0m\u001b[0;34m(\u001b[0m\u001b[0mcgi\u001b[0m\u001b[0;34m,\u001b[0m \u001b[0mvariables\u001b[0m\u001b[0;34m,\u001b[0m \u001b[0mpost\u001b[0m\u001b[0;34m=\u001b[0m\u001b[0mpost\u001b[0m\u001b[0;34m)\u001b[0m\u001b[0;34m\u001b[0m\u001b[0;34m\u001b[0m\u001b[0m\n\u001b[0m\u001b[1;32m    196\u001b[0m \u001b[0;34m\u001b[0m\u001b[0m\n\u001b[1;32m    197\u001b[0m \u001b[0;34m\u001b[0m\u001b[0m\n",
      "\u001b[0;32m/opt/anaconda3/lib/python3.7/site-packages/Bio/Entrez/__init__.py\u001b[0m in \u001b[0;36m_open\u001b[0;34m(cgi, params, post, ecitmatch)\u001b[0m\n\u001b[1;32m    553\u001b[0m                 \u001b[0mhandle\u001b[0m \u001b[0;34m=\u001b[0m \u001b[0m_urlopen\u001b[0m\u001b[0;34m(\u001b[0m\u001b[0mcgi\u001b[0m\u001b[0;34m,\u001b[0m \u001b[0mdata\u001b[0m\u001b[0;34m=\u001b[0m\u001b[0m_as_bytes\u001b[0m\u001b[0;34m(\u001b[0m\u001b[0moptions\u001b[0m\u001b[0;34m)\u001b[0m\u001b[0;34m)\u001b[0m\u001b[0;34m\u001b[0m\u001b[0;34m\u001b[0m\u001b[0m\n\u001b[1;32m    554\u001b[0m             \u001b[0;32melse\u001b[0m\u001b[0;34m:\u001b[0m\u001b[0;34m\u001b[0m\u001b[0;34m\u001b[0m\u001b[0m\n\u001b[0;32m--> 555\u001b[0;31m                 \u001b[0mhandle\u001b[0m \u001b[0;34m=\u001b[0m \u001b[0m_urlopen\u001b[0m\u001b[0;34m(\u001b[0m\u001b[0mcgi\u001b[0m\u001b[0;34m)\u001b[0m\u001b[0;34m\u001b[0m\u001b[0;34m\u001b[0m\u001b[0m\n\u001b[0m\u001b[1;32m    556\u001b[0m         \u001b[0;32mexcept\u001b[0m \u001b[0m_URLError\u001b[0m \u001b[0;32mas\u001b[0m \u001b[0mexception\u001b[0m\u001b[0;34m:\u001b[0m\u001b[0;34m\u001b[0m\u001b[0;34m\u001b[0m\u001b[0m\n\u001b[1;32m    557\u001b[0m             \u001b[0;31m# Reraise if the final try fails\u001b[0m\u001b[0;34m\u001b[0m\u001b[0;34m\u001b[0m\u001b[0;34m\u001b[0m\u001b[0m\n",
      "\u001b[0;32m/opt/anaconda3/lib/python3.7/urllib/request.py\u001b[0m in \u001b[0;36murlopen\u001b[0;34m(url, data, timeout, cafile, capath, cadefault, context)\u001b[0m\n\u001b[1;32m    220\u001b[0m     \u001b[0;32melse\u001b[0m\u001b[0;34m:\u001b[0m\u001b[0;34m\u001b[0m\u001b[0;34m\u001b[0m\u001b[0m\n\u001b[1;32m    221\u001b[0m         \u001b[0mopener\u001b[0m \u001b[0;34m=\u001b[0m \u001b[0m_opener\u001b[0m\u001b[0;34m\u001b[0m\u001b[0;34m\u001b[0m\u001b[0m\n\u001b[0;32m--> 222\u001b[0;31m     \u001b[0;32mreturn\u001b[0m \u001b[0mopener\u001b[0m\u001b[0;34m.\u001b[0m\u001b[0mopen\u001b[0m\u001b[0;34m(\u001b[0m\u001b[0murl\u001b[0m\u001b[0;34m,\u001b[0m \u001b[0mdata\u001b[0m\u001b[0;34m,\u001b[0m \u001b[0mtimeout\u001b[0m\u001b[0;34m)\u001b[0m\u001b[0;34m\u001b[0m\u001b[0;34m\u001b[0m\u001b[0m\n\u001b[0m\u001b[1;32m    223\u001b[0m \u001b[0;34m\u001b[0m\u001b[0m\n\u001b[1;32m    224\u001b[0m \u001b[0;32mdef\u001b[0m \u001b[0minstall_opener\u001b[0m\u001b[0;34m(\u001b[0m\u001b[0mopener\u001b[0m\u001b[0;34m)\u001b[0m\u001b[0;34m:\u001b[0m\u001b[0;34m\u001b[0m\u001b[0;34m\u001b[0m\u001b[0m\n",
      "\u001b[0;32m/opt/anaconda3/lib/python3.7/urllib/request.py\u001b[0m in \u001b[0;36mopen\u001b[0;34m(self, fullurl, data, timeout)\u001b[0m\n\u001b[1;32m    529\u001b[0m         \u001b[0;32mfor\u001b[0m \u001b[0mprocessor\u001b[0m \u001b[0;32min\u001b[0m \u001b[0mself\u001b[0m\u001b[0;34m.\u001b[0m\u001b[0mprocess_response\u001b[0m\u001b[0;34m.\u001b[0m\u001b[0mget\u001b[0m\u001b[0;34m(\u001b[0m\u001b[0mprotocol\u001b[0m\u001b[0;34m,\u001b[0m \u001b[0;34m[\u001b[0m\u001b[0;34m]\u001b[0m\u001b[0;34m)\u001b[0m\u001b[0;34m:\u001b[0m\u001b[0;34m\u001b[0m\u001b[0;34m\u001b[0m\u001b[0m\n\u001b[1;32m    530\u001b[0m             \u001b[0mmeth\u001b[0m \u001b[0;34m=\u001b[0m \u001b[0mgetattr\u001b[0m\u001b[0;34m(\u001b[0m\u001b[0mprocessor\u001b[0m\u001b[0;34m,\u001b[0m \u001b[0mmeth_name\u001b[0m\u001b[0;34m)\u001b[0m\u001b[0;34m\u001b[0m\u001b[0;34m\u001b[0m\u001b[0m\n\u001b[0;32m--> 531\u001b[0;31m             \u001b[0mresponse\u001b[0m \u001b[0;34m=\u001b[0m \u001b[0mmeth\u001b[0m\u001b[0;34m(\u001b[0m\u001b[0mreq\u001b[0m\u001b[0;34m,\u001b[0m \u001b[0mresponse\u001b[0m\u001b[0;34m)\u001b[0m\u001b[0;34m\u001b[0m\u001b[0;34m\u001b[0m\u001b[0m\n\u001b[0m\u001b[1;32m    532\u001b[0m \u001b[0;34m\u001b[0m\u001b[0m\n\u001b[1;32m    533\u001b[0m         \u001b[0;32mreturn\u001b[0m \u001b[0mresponse\u001b[0m\u001b[0;34m\u001b[0m\u001b[0;34m\u001b[0m\u001b[0m\n",
      "\u001b[0;32m/opt/anaconda3/lib/python3.7/urllib/request.py\u001b[0m in \u001b[0;36mhttp_response\u001b[0;34m(self, request, response)\u001b[0m\n\u001b[1;32m    639\u001b[0m         \u001b[0;32mif\u001b[0m \u001b[0;32mnot\u001b[0m \u001b[0;34m(\u001b[0m\u001b[0;36m200\u001b[0m \u001b[0;34m<=\u001b[0m \u001b[0mcode\u001b[0m \u001b[0;34m<\u001b[0m \u001b[0;36m300\u001b[0m\u001b[0;34m)\u001b[0m\u001b[0;34m:\u001b[0m\u001b[0;34m\u001b[0m\u001b[0;34m\u001b[0m\u001b[0m\n\u001b[1;32m    640\u001b[0m             response = self.parent.error(\n\u001b[0;32m--> 641\u001b[0;31m                 'http', request, response, code, msg, hdrs)\n\u001b[0m\u001b[1;32m    642\u001b[0m \u001b[0;34m\u001b[0m\u001b[0m\n\u001b[1;32m    643\u001b[0m         \u001b[0;32mreturn\u001b[0m \u001b[0mresponse\u001b[0m\u001b[0;34m\u001b[0m\u001b[0;34m\u001b[0m\u001b[0m\n",
      "\u001b[0;32m/opt/anaconda3/lib/python3.7/urllib/request.py\u001b[0m in \u001b[0;36merror\u001b[0;34m(self, proto, *args)\u001b[0m\n\u001b[1;32m    567\u001b[0m         \u001b[0;32mif\u001b[0m \u001b[0mhttp_err\u001b[0m\u001b[0;34m:\u001b[0m\u001b[0;34m\u001b[0m\u001b[0;34m\u001b[0m\u001b[0m\n\u001b[1;32m    568\u001b[0m             \u001b[0margs\u001b[0m \u001b[0;34m=\u001b[0m \u001b[0;34m(\u001b[0m\u001b[0mdict\u001b[0m\u001b[0;34m,\u001b[0m \u001b[0;34m'default'\u001b[0m\u001b[0;34m,\u001b[0m \u001b[0;34m'http_error_default'\u001b[0m\u001b[0;34m)\u001b[0m \u001b[0;34m+\u001b[0m \u001b[0morig_args\u001b[0m\u001b[0;34m\u001b[0m\u001b[0;34m\u001b[0m\u001b[0m\n\u001b[0;32m--> 569\u001b[0;31m             \u001b[0;32mreturn\u001b[0m \u001b[0mself\u001b[0m\u001b[0;34m.\u001b[0m\u001b[0m_call_chain\u001b[0m\u001b[0;34m(\u001b[0m\u001b[0;34m*\u001b[0m\u001b[0margs\u001b[0m\u001b[0;34m)\u001b[0m\u001b[0;34m\u001b[0m\u001b[0;34m\u001b[0m\u001b[0m\n\u001b[0m\u001b[1;32m    570\u001b[0m \u001b[0;34m\u001b[0m\u001b[0m\n\u001b[1;32m    571\u001b[0m \u001b[0;31m# XXX probably also want an abstract factory that knows when it makes\u001b[0m\u001b[0;34m\u001b[0m\u001b[0;34m\u001b[0m\u001b[0;34m\u001b[0m\u001b[0m\n",
      "\u001b[0;32m/opt/anaconda3/lib/python3.7/urllib/request.py\u001b[0m in \u001b[0;36m_call_chain\u001b[0;34m(self, chain, kind, meth_name, *args)\u001b[0m\n\u001b[1;32m    501\u001b[0m         \u001b[0;32mfor\u001b[0m \u001b[0mhandler\u001b[0m \u001b[0;32min\u001b[0m \u001b[0mhandlers\u001b[0m\u001b[0;34m:\u001b[0m\u001b[0;34m\u001b[0m\u001b[0;34m\u001b[0m\u001b[0m\n\u001b[1;32m    502\u001b[0m             \u001b[0mfunc\u001b[0m \u001b[0;34m=\u001b[0m \u001b[0mgetattr\u001b[0m\u001b[0;34m(\u001b[0m\u001b[0mhandler\u001b[0m\u001b[0;34m,\u001b[0m \u001b[0mmeth_name\u001b[0m\u001b[0;34m)\u001b[0m\u001b[0;34m\u001b[0m\u001b[0;34m\u001b[0m\u001b[0m\n\u001b[0;32m--> 503\u001b[0;31m             \u001b[0mresult\u001b[0m \u001b[0;34m=\u001b[0m \u001b[0mfunc\u001b[0m\u001b[0;34m(\u001b[0m\u001b[0;34m*\u001b[0m\u001b[0margs\u001b[0m\u001b[0;34m)\u001b[0m\u001b[0;34m\u001b[0m\u001b[0;34m\u001b[0m\u001b[0m\n\u001b[0m\u001b[1;32m    504\u001b[0m             \u001b[0;32mif\u001b[0m \u001b[0mresult\u001b[0m \u001b[0;32mis\u001b[0m \u001b[0;32mnot\u001b[0m \u001b[0;32mNone\u001b[0m\u001b[0;34m:\u001b[0m\u001b[0;34m\u001b[0m\u001b[0;34m\u001b[0m\u001b[0m\n\u001b[1;32m    505\u001b[0m                 \u001b[0;32mreturn\u001b[0m \u001b[0mresult\u001b[0m\u001b[0;34m\u001b[0m\u001b[0;34m\u001b[0m\u001b[0m\n",
      "\u001b[0;32m/opt/anaconda3/lib/python3.7/urllib/request.py\u001b[0m in \u001b[0;36mhttp_error_default\u001b[0;34m(self, req, fp, code, msg, hdrs)\u001b[0m\n\u001b[1;32m    647\u001b[0m \u001b[0;32mclass\u001b[0m \u001b[0mHTTPDefaultErrorHandler\u001b[0m\u001b[0;34m(\u001b[0m\u001b[0mBaseHandler\u001b[0m\u001b[0;34m)\u001b[0m\u001b[0;34m:\u001b[0m\u001b[0;34m\u001b[0m\u001b[0;34m\u001b[0m\u001b[0m\n\u001b[1;32m    648\u001b[0m     \u001b[0;32mdef\u001b[0m \u001b[0mhttp_error_default\u001b[0m\u001b[0;34m(\u001b[0m\u001b[0mself\u001b[0m\u001b[0;34m,\u001b[0m \u001b[0mreq\u001b[0m\u001b[0;34m,\u001b[0m \u001b[0mfp\u001b[0m\u001b[0;34m,\u001b[0m \u001b[0mcode\u001b[0m\u001b[0;34m,\u001b[0m \u001b[0mmsg\u001b[0m\u001b[0;34m,\u001b[0m \u001b[0mhdrs\u001b[0m\u001b[0;34m)\u001b[0m\u001b[0;34m:\u001b[0m\u001b[0;34m\u001b[0m\u001b[0;34m\u001b[0m\u001b[0m\n\u001b[0;32m--> 649\u001b[0;31m         \u001b[0;32mraise\u001b[0m \u001b[0mHTTPError\u001b[0m\u001b[0;34m(\u001b[0m\u001b[0mreq\u001b[0m\u001b[0;34m.\u001b[0m\u001b[0mfull_url\u001b[0m\u001b[0;34m,\u001b[0m \u001b[0mcode\u001b[0m\u001b[0;34m,\u001b[0m \u001b[0mmsg\u001b[0m\u001b[0;34m,\u001b[0m \u001b[0mhdrs\u001b[0m\u001b[0;34m,\u001b[0m \u001b[0mfp\u001b[0m\u001b[0;34m)\u001b[0m\u001b[0;34m\u001b[0m\u001b[0;34m\u001b[0m\u001b[0m\n\u001b[0m\u001b[1;32m    650\u001b[0m \u001b[0;34m\u001b[0m\u001b[0m\n\u001b[1;32m    651\u001b[0m \u001b[0;32mclass\u001b[0m \u001b[0mHTTPRedirectHandler\u001b[0m\u001b[0;34m(\u001b[0m\u001b[0mBaseHandler\u001b[0m\u001b[0;34m)\u001b[0m\u001b[0;34m:\u001b[0m\u001b[0;34m\u001b[0m\u001b[0;34m\u001b[0m\u001b[0m\n",
      "\u001b[0;31mHTTPError\u001b[0m: HTTP Error 429: Too Many Requests"
     ]
    }
   ],
   "source": [
    "# Now, generate the gene database:\n",
    "for sp in species:\n",
    "    for key in genes.keys():\n",
    "        for g in genes.get(key):\n",
    "            result = search(g, species=sp)\n",
    "            # print(result)\n",
    "            addToGeneDB(result, \"genes\")\n",
    "            # time.sleep(1)"
   ]
  },
  {
   "cell_type": "code",
   "execution_count": 23,
   "metadata": {},
   "outputs": [
    {
     "ename": "TypeError",
     "evalue": "sql_fetch() missing 1 required positional argument: 'dbName'",
     "output_type": "error",
     "traceback": [
      "\u001b[0;31m---------------------------------------------------------------------------\u001b[0m",
      "\u001b[0;31mTypeError\u001b[0m                                 Traceback (most recent call last)",
      "\u001b[0;32m<ipython-input-23-71c90e95c04a>\u001b[0m in \u001b[0;36m<module>\u001b[0;34m\u001b[0m\n\u001b[0;32m----> 1\u001b[0;31m \u001b[0msql_fetch\u001b[0m\u001b[0;34m(\u001b[0m\u001b[0;34m)\u001b[0m\u001b[0;34m\u001b[0m\u001b[0;34m\u001b[0m\u001b[0m\n\u001b[0m",
      "\u001b[0;31mTypeError\u001b[0m: sql_fetch() missing 1 required positional argument: 'dbName'"
     ]
    }
   ],
   "source": [
    "sql_fetch()"
   ]
  },
  {
   "cell_type": "raw",
   "metadata": {},
   "source": [
    "# Assignment outline: #\n",
    "\n",
    "for gene:\n",
    "    for species:\n",
    "        result = search(gene, species)\n",
    "        db.add(result.parse())\n",
    "        \n"
   ]
  }
 ],
 "metadata": {
  "kernelspec": {
   "display_name": "Python 3",
   "language": "python",
   "name": "python3"
  },
  "language_info": {
   "codemirror_mode": {
    "name": "ipython",
    "version": 3
   },
   "file_extension": ".py",
   "mimetype": "text/x-python",
   "name": "python",
   "nbconvert_exporter": "python",
   "pygments_lexer": "ipython3",
   "version": "3.7.3"
  }
 },
 "nbformat": 4,
 "nbformat_minor": 2
}
