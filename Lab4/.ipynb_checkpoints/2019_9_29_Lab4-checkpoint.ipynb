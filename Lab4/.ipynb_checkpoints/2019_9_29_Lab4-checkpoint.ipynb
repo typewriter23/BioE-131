{
 "cells": [
  {
   "cell_type": "code",
   "execution_count": 1,
   "metadata": {},
   "outputs": [
    {
     "name": "stdout",
     "output_type": "stream",
     "text": [
      "19_9_11 BioE 131 Lab 1.ipynb\t      LICENSE\r\n",
      "2019_9_15_BLAST_search.asn\t      Lab4\r\n",
      "2019_9_15_Lab2_Jerry_Yang.ipynb       README.md\r\n",
      "2019_9_15_aligned_seqs.fa\t      romeoandjuliet.txt\r\n",
      "2019_9_15_representativeSample.fasta  seqs.fa\r\n",
      "2019_9_24_Lab3_BioE131.ipynb\t      tree.nwk\r\n",
      "2019_9_29_Lab4.ipynb\r\n"
     ]
    }
   ],
   "source": [
    "!ls"
   ]
  },
  {
   "cell_type": "code",
   "execution_count": null,
   "metadata": {},
   "outputs": [],
   "source": []
  },
  {
   "cell_type": "code",
   "execution_count": 146,
   "metadata": {},
   "outputs": [],
   "source": [
    "import sqlite3\n",
    "from Bio import Entrez\n",
    "from Bio.Seq import Seq\n",
    "from Bio.SeqRecord import SeqRecord\n",
    "from Bio.Alphabet import generic_protein\n",
    "from Bio import SeqIO\n",
    "import time"
   ]
  },
  {
   "cell_type": "code",
   "execution_count": 131,
   "metadata": {},
   "outputs": [
    {
     "data": {
      "text/plain": [
       "<sqlite3.Cursor at 0x7fd935bde030>"
      ]
     },
     "execution_count": 131,
     "metadata": {},
     "output_type": "execute_result"
    }
   ],
   "source": [
    "# Set up database\n",
    "conn = sqlite3.connect(\"2019_9_29_Lab4_database.db\")\n",
    "c = conn.cursor()\n",
    "c.execute(\"CREATE TABLE genes (geneId TEXT, type TEXT, species TEXT, sequence TEXT)\")"
   ]
  },
  {
   "cell_type": "code",
   "execution_count": 38,
   "metadata": {},
   "outputs": [],
   "source": [
    "# Testing Entrez:\n",
    "Entrez.email = 'jerry.yang@berkeley.edu'\n",
    "handle = Entrez.esearch(db='nucleotide',\n",
    "                       term='homo sapiens[ORGN] leptin',\n",
    "                       sort='relevance',\n",
    "                       idtype='acc',\n",
    "                       retmax = 1)"
   ]
  },
  {
   "cell_type": "code",
   "execution_count": 39,
   "metadata": {},
   "outputs": [
    {
     "name": "stdout",
     "output_type": "stream",
     "text": [
      ">NM_000230.3 Homo sapiens leptin (LEP), mRNA\n",
      "GTAGGAATCGCAGCGCCAGCGGTTGCAAGGCCCAAGAAGCCCATCCTGGGAAGGAAAATGCATTGGGGAA\n",
      "CCCTGTGCGGATTCTTGTGGCTTTGGCCCTATCTTTTCTATGTCCAAGCTGTGCCCATCCAAAAAGTCCA\n",
      "AGATGACACCAAAACCCTCATCAAGACAATTGTCACCAGGATCAATGACATTTCACACACGCAGTCAGTC\n",
      "TCCTCCAAACAGAAAGTCACCGGTTTGGACTTCATTCCTGGGCTCCACCCCATCCTGACCTTATCCAAGA\n",
      "TGGACCAGACACTGGCAGTCTACCAACAGATCCTCACCAGTATGCCTTCCAGAAACGTGATCCAAATATC\n",
      "CAACGACCTGGAGAACCTCCGGGATCTTCTTCACGTGCTGGCCTTCTCTAAGAGCTGCCACTTGCCCTGG\n",
      "GCCAGTGGCCTGGAGACCTTGGACAGCCTGGGGGGTGTCCTGGAAGCTTCAGGCTACTCCACAGAGGTGG\n",
      "TGGCCCTGAGCAGGCTGCAGGGGTCTCTGCAGGACATGCTGTGGCAGCTGGACCTCAGCCCTGGGTGCTG\n",
      "AGGCCTTGAAGGTCACTCTTCCTGCAAGGACTACGTTAAGGGAAGGAACTCTGGCTTCCAGGTATCTCCA\n",
      "GGATTGAAGAGCATTGCATGGACACCCCTTATCCAGGACTCTGTCAATTTCCCTGACTCCTCTAAGCCAC\n",
      "TCTTCCAAAGGCATAAGACCCTAAGCCTCCTTTTGCTTGAAACCAAAGATATATACACAGGATCCTATTC\n",
      "TCACCAGGAAGGGGGTCCACCCAGCAAAGAGTGGGCTGCATCTGGGATTCCCACCAAGGTCTTCAGCCAT\n",
      "CAACAAGAGTTGTCTTGTCCCCTCTTGACCCATCTCCCCCTCACTGAATGCCTCAATGTGACCAGGGGTG\n",
      "ATTTCAGAGAGGGCAGAGGGGTAGGCAGAGCCTTTGGATGACCAGAACAAGGTTCCCTCTGAGAATTCCA\n",
      "AGGAGTTCCATGAAGACCACATCCACACACGCAGGAACTCCCAGCAACACAAGCTGGAAGCACATGTTTA\n",
      "TTTATTCTGCATTTTATTCTGGATGGATTTGAAGCAAAGCACCAGCTTCTCCAGGCTCTTTGGGGTCAGC\n",
      "CAGGGCCAGGGGTCTCCCTGGAGTGCAGTTTCCAATCCCATAGATGGGTCTGGCTGAGCTGAACCCATTT\n",
      "TGAGTGACTCGAGGGTTGGGTTCATCTGAGCAAGAGCTGGCAAAGGTGGCTCTCCAGTTAGTTCTCTCGT\n",
      "AACTGGTTTCATTTCTACTGTGACTGATGTTACATCACAGTGTTTGCAATGGTGTTGCCCTGAGTGGATC\n",
      "TCCAAGGACCAGGTTATTTTAAAAAGATTTGTTTTGTCAAGTGTCATATGTAGGTGTCTGCACCCAGGGG\n",
      "TGGGGAATGTTTGGGCAGAAGGGAGAAGGATCTAGAATGTGTTTTCTGAATAACATTTGTGTGGTGGGTT\n",
      "CTTTGGAAGGAGTGAGATCATTTTCTTATCTTCTGCAATTGCTTAGGATGTTTTTCATGAAAATAGCTCT\n",
      "TTCAGGGGGGTTGTGAGGCCTGGCCAGGCACCCCCTGGAGAGAAGTTTCTGGCCCTGGCTGACCCCAAAG\n",
      "AGCCTGGAGAAGCTGATGCTTTGCTTCAAATCCATCCAGAATAAAACGCAAAGGGCTGAAAGCCATTTGT\n",
      "TGGGGCAGTGGTAAGCTCTGGCTTTCTCCGACTGCTAGGGAGTGGTCTTTCCTATCATGGAGTGACGGTC\n",
      "CCACACTGGTGACTGCGATCTTCAGAGCAGGGGTCCTTGGTGTGACCCTCTGAATGGTCCAGGGTTGATC\n",
      "ACACTCTGGGTTTATTACATGGCAGTGTTCCTATTTGGGGCTTGCATGCCAAATTGTAGTTCTTGTCTGA\n",
      "TTGGCTCACCCAAGCAAGGCCAAAATTACCAAAAATCTTGGGGGGTTTTTACTCCAGTGGTGAAGAAAAC\n",
      "TCCTTTAGCAGGTGGTCCTGAGACCTGACAAGCACTGCTAGGCGAGTGCCAGGACTCCCCAGGCCAGGCC\n",
      "ACCAGGATGGCCCTTCCCACTGGAGGTCACATTCAGGAAGATGAAAGAGGAGGTTTGGGGTCTGCCACCA\n",
      "TCCTGCTGCTGTGTTTTTGCTATCACACAGTGGGTGGTGGATCTGTCCAAGGAAACTTGAATCAAAGCAG\n",
      "TTAACTTTAAGACTGAGCACCTGCTTCATGCTCAGCCCTGACTGGTGCTATAGGCTGGAGAAGCTCACCC\n",
      "AATAAACATTAAGATTGAGGCCTGCCCTCAGGGATCTTGCATTCCCAGTGGTCAAACCGCACTCACCCAT\n",
      "GTGCCAAGGTGGGGTATTTACCACAGCAGCTGAACAGCCAAATGCATGGTGCAGTTGACAGCAGGTGGGA\n",
      "AATGGTATGAGCTGAGGGGGGCCGTGCCCAGGGGCCCACAGGGAACCCTGCTTGCACTTTGTAACATGTT\n",
      "TACTTTTCAGGGCATCTTAGCTTCTATTATAGCCACATCCCTTTGAAACAAGATAACTGAGAATTTAAAA\n",
      "ATAAGAAAATACATAAGACCATAACAGCCAACAGGTGGCAGGACCAGGACTATAGCCCAGGTCCTCTGAT\n",
      "ACCCAGAGCATTACGTGAGCCAGGTAATGAGGGACTGGAACCAGGGAGACCGAGCGCTTTCTGGAAAAGA\n",
      "GGAGTTTCGAGGTAGAGTTTGAAGGAGGTGAGGGATGTGAATTGCCTGCAGAGAGAAGCCTGTTTTGTTG\n",
      "GAAGGTTTGGTGTGTGGAGATGCAGAGGTAAAAGTGTGAGCAGTGAGTTACAGCGAGAGGCAGAGAAAGA\n",
      "AGAGACAGGAGGGCAAGGGCCATGCTGAAGGGACCTTGAAGGGTAAAGAAGTTTGATATTAAAGGAGTTA\n",
      "AGAGTAGCAAGTTCTAGAGAAGAGGCTGGTGCTGTGGCCAGGGTGAGAGCTGCTCTGGAAAATGTGACCC\n",
      "AGATCCTCACAACCACCTAATCAGGCTGAGGTGTCTTAAGCCTTTTGCTCACAAAACCTGGCACAATGGC\n",
      "TAATTCCCAGAGTGTGAAACTTCCTAAGTATAAATGGTTGTCTGTTTTTGTAACTTAAAAAAAAAAAAAA\n",
      "AAGTTTGGCCGGGTGCGGTGGCTCACGCCTGTAATCCCAGCACTTTGGGAGGCCAAGGTGGGGGGATCAC\n",
      "AAGGTCACTAGATGGCGAGCATCCTGGCCAACATGGTGAAACCCCGTCTCTACTAAAAACACAAAAGTTA\n",
      "GCTGAGCGTGGTGGCGGGCGCCTGTAGTCCCAGCCACTCGGGAGGCTGAGACAGGAGAATCGCTTAAACC\n",
      "TGGGAGGCGGAGAGTACAGTGAGCCAAGATCGCGCCACTGCACTCCGGCCTGATGACAGAGCGAGATTCC\n",
      "GTCTTAAAAAAAAAAAAAAAAAAGTTTGTTTTTAAAAAAATCTAAATAAAATAACTTTGCCCCCTGC\n",
      "\n",
      "\n"
     ]
    }
   ],
   "source": [
    "for entry in Entrez.read(handle)['IdList']:\n",
    "    result = Entrez.efetch(db='nucleotide', id=entry, rettype='fasta', retmode='text')\n",
    "    # print(result.read())\n",
    "    \n",
    "    \n",
    "#     for seq_rec in SeqIO.parse(\"seqs.fa\", \"fasta\"):   \n",
    "#     seqs[seq_rec.id] = seq_rec"
   ]
  },
  {
   "cell_type": "code",
   "execution_count": 118,
   "metadata": {},
   "outputs": [],
   "source": [
    "# Creating a helper function to run Entrez\n",
    "def search(term, species='homo sapiens'):\n",
    "    \"\"\" Function to search Entrez for a particular gene, given species and \n",
    "            search term\n",
    "            \n",
    "        Returns the top hit for that search as a dictionary containing the following information:\n",
    "            {   \"organism\": [organism], \n",
    "                \"sequence\": [seq],\n",
    "                \"type\": [rna or dna],\n",
    "                \"geneId\": [geneID]\n",
    "                }\n",
    "            \n",
    "        E.g.\n",
    "        > search(species = \"mus musculus\", 'leptin')\n",
    "        \n",
    "        \n",
    "        \">NM_008493.3 Mus musculus leptin (Lep), mRNA\n",
    "        GAGGGATCCCTGCTCCAGCAGCTGCAAGGTGCAAGAAGAAGAAGATCCCAGGGAGGAAAATGTGCTGGAG ...\"\n",
    "        \n",
    "        \"\"\"\n",
    "    handle = Entrez.esearch(db='nucleotide',\n",
    "                   term='{species}[ORGN] {searchTerm}'.format(species = species, searchTerm = term),\n",
    "                   sort='relevance',\n",
    "                   idtype='acc',\n",
    "                   retmax = 1)\n",
    "    for entry in Entrez.read(handle)['IdList']:\n",
    "        result = Entrez.efetch(db='nucleotide', id=entry, rettype='gb')\n",
    "        # print(result.read())\n",
    "        for rec in SeqIO.parse(result, \"gb\"):\n",
    "            # print(rec.annotations)\n",
    "            return {\"organism\": rec.annotations.get('organism'),\n",
    "                    \"geneID\": rec.annotations.get(\"accessions\")[0],\n",
    "                    \"type\": rec.annotations.get(\"molecule_type\"),\n",
    "                    \"sequence\": str(rec.seq)\n",
    "                    }\n",
    "#             print(rec.annotations.get('organism'))\n",
    "#             print(rec.seq)\n",
    "            \n",
    "    def genOutputFastaName(species, term):\n",
    "        \"\"\" Helper function to systematically generate an output name\"\"\"\n",
    "        return \"{sp}_{term}.gb\".replace(\" \", \"_\").format(sp = species, term = term)\n",
    "    \n",
    "#     with open(genOutputFastaName(species, term), \"w\") as output_handle:\n",
    "#         gene_data = result.read()\n",
    "        # output_handle.write(gene_data)\n",
    "        \n",
    "        # print(gene_data)\n",
    "# search('leptin', species = 'mus musculus')"
   ]
  },
  {
   "cell_type": "code",
   "execution_count": 127,
   "metadata": {},
   "outputs": [],
   "source": [
    "def addToGeneDB(gene_dict, geneDB):\n",
    "    \"\"\" Adds the particular sequence to the gene database\n",
    "    \n",
    "    Assumes the following parameters for the gene DB:\n",
    "    {geneID, species, type, sequence}\"\"\"\n",
    "\n",
    "    c.execute(\"INSERT INTO genes (geneID, type, species, sequence) VALUES \\\n",
    "                ('{geneID}', '{t}', '{sp}', '{seq}')\".format(geneID = gene_dict.get(\"geneID\"),\n",
    "                                                    t = gene_dict.get(\"type\"),\n",
    "                                                    sp = gene_dict.get(\"organism\"),\n",
    "                                                    seq = gene_dict.get(\"sequence\")))\n",
    "                                                    "
   ]
  },
  {
   "cell_type": "code",
   "execution_count": 133,
   "metadata": {},
   "outputs": [],
   "source": [
    "addToGeneDB(search('leptin', species = 'mus musculus'), \"genes\")"
   ]
  },
  {
   "cell_type": "code",
   "execution_count": 132,
   "metadata": {},
   "outputs": [
    {
     "data": {
      "text/plain": [
       "{'organism': 'Mus musculus',\n",
       " 'geneID': 'NM_008493',\n",
       " 'type': 'mRNA',\n",
       " 'sequence': 'GAGGGATCCCTGCTCCAGCAGCTGCAAGGTGCAAGAAGAAGAAGATCCCAGGGAGGAAAATGTGCTGGAGACCCCTGTGTCGGTTCCTGTGGCTTTGGTCCTATCTGTCTTATGTTCAAGCAGTGCCTATCCAGAAAGTCCAGGATGACACCAAAACCCTCATCAAGACCATTGTCACCAGGATCAATGACATTTCACACACGCAGTCGGTATCCGCCAAGCAGAGGGTCACTGGCTTGGACTTCATTCCTGGGCTTCACCCCATTCTGAGTTTGTCCAAGATGGACCAGACTCTGGCAGTCTATCAACAGGTCCTCACCAGCCTGCCTTCCCAAAATGTGCTGCAGATAGCCAATGACCTGGAGAATCTCCGAGACCTCCTCCATCTGCTGGCCTTCTCCAAGAGCTGCTCCCTGCCTCAGACCAGTGGCCTGCAGAAGCCAGAGAGCCTGGATGGCGTCCTGGAAGCCTCACTCTACTCCACAGAGGTGGTGGCTTTGAGCAGGCTGCAGGGCTCTCTGCAGGACATTCTTCAACAGTTGGATGTTAGCCCTGAATGCTGAAGTTTCAAAGGCCACCAGGCTCCCAAGAATCATGTAGAGGGAAGAAACCTTGGCTTCCAGGGGTCTTCAGGAGAAGAGAGCCATGTGCACACATCCATCATTCATTTCTCTCCCTCCTGTAGACCACCCATCCAAAGGCATGACTCCACAATGCTTGACTCAAGTTATCCACACAACTTCATGAGCACAAGGAGGGGCCAGCCTGCAGAGGGGACTCTCACCTAGTTCTTCAGCAAGTAGAGATAAGAGCCATCCCATCCCCTCCATGTCCCACCTGCTCCGGGTACATGTTCCTCCGTGGGTACACGCTTCGCTGCGGCCCAGGAGAGGTGAGGTAGGGATGGGTAGAGCCTTTGGGCTGTCTCAGAGTCTTTGGGAGCACCGTGAAGGCTGCATCCACACACAGCTGGAAACTCCCAAGCAGCACACGATGGAAGCACTTATTTATTTATTCTGCATTCTATTTTGGATGGATCTGAAGCAAGCCATCAGCTTTTTCAGGCTTTGGGGGTCAGCCAGGATGAGGAAGGCTCCTGGGGTGCTGCTTTCAATCCTATTGATGGGTCTGCCCAAGGCAAACCTAATTTTTGAGTGACTGGAAGGAAGGTTGGGATCTTCCAAACAAGAGTCTATGCAGGTAGCGCTCAAGCTTGACCTCTGGTGACTGGTTTTGTTTCTATTGTGACTGACTCTATGCAAACACGTTTGCAGCGGCATTGCCGGGAGCATAGGCTAGGTTATTATCAAAAGCAGATGAATTTTGTCAAGTGTAATATGTATCTATGTGCACCTGAGGGTAGAGGATGTGTTAGAGGGAGGGTGAAGGATCCGGAAGTGTTCTCTGAATTACATATGTGTGGTAGGCTTTTCTGAAAGGGTGAGGCATTTTCTTACCTCTGTGGCCACATAGTGTGGCTTTGTGAAAAGGACAAAGGAGTTGACTCTTTCCGGAACATTTGGAGTGTACCAGGCACCCTTGGAGGGGCTAAAGCTACAGGCCTTTTGTTGGCATATTGCTGAGCTCAGGGAGTGAGGGCCCCACATTTGAGACAGTGAGCCCCAAGAAAAGGGTCCCTGGTGTAGATCTCCAAGGTTGTCCAGGGTTGATCTCACAATGCGTTTCTTAAGCAGGTAGACGTTTGCATGCCAATATGTGGTTCTCATCTGATTGGTTCATCCAAAGTAGAACCCTGTCTCCCACCCATTCTGTGGGGAGTTTTGTTCCAGTGGGAATGAGAAATCACTTAGCAGATGGTCCTGAGCCCTGGGCCAGCACTGCTGAGGAAGTGCCAGGGCCCCAGGCCAGGCTGCCAGAATTGCCCTTCGGGCTGGAGGATGAACAAAGGGGCTTGGGTTTTTCCATCACCCCTGCACCCTATGTCACCATCAAACTGGGGGGCAGATCAGTGAGAGGACACTTGATGGAAAGCAATACACTTTAAGACTGAGCACAGTTTCGTGCTCAGCTCTGTCTGGTGCTGTGAGCTAGAGAAGCTCACCAAATACATATAAAAATCAGAGGCTCATGTCCCTGTGGTTAGACCCTACTCACGGCGGTGTACTCCACCACAGCAGCCCCGCACCGCTGGAAGTACAGTGCTGTCTTCAACAGGTGTGAAAGAACCTGAGCTGAGGGTGACAGTGCCCAGGGGAACCCTGCTTGCAGTCTATTGCATTTACATACCGCATTTCAGGGCACATTAGCATCCACTGCTATGGTAGCACACTGTTGACACGGGATACCTGGGGTCGTAAAAATAAGAAAATACAGGTTGACTATCCCTTATCCAAAATGCTTGGGACTAGAAGAGTTTTGGATTTTAGAGTCTTTTCAGGCATAGGTATATTTGAGTATATATAAAATGAGATATCTTGGGGATGGGGCCCAAGTATAAACATGAAGTTCATTTATATTTCATAATACCGTATAGACACTGCTTGAAGTGTAGTTTTATACAGTGTTTTAAATAACGTTGTATGCATGAAAGACGTTTTTACAGCATGAACCTGTCTACTCATGCCAGCACTCAAAAACCTTGGGGTTTTGGAGCAGTTTGGATCTTGGGTTTTCTGTTAAGAGATGGTTAGCTTATACCTAAAACCATAATGGCAAACAGGCTGCAGGACCAGACTGGATCCTCAGCCCTGAAGTGTGCCCTTCCAGCCAGGTCATACCCTGTGGAGGTGAGCGGGATCAGGTTTTGTGGTGCTAAGAGAGGAGTTGGAGGTAGATTTTGGAGGATCTGAGGGGTGATGTGATGTTTTATTGGACACTTGGTATGTTGAAGGGATGAAAGTCCAAACAGGAAGTGACAGGGAAGACTGAAGAGACCGGGAAAGAGTGACAGGAAGTGCTGAGAGGACTTTATGGGCCACAAAAGTGGCTTCTGAAAGATCCCACGTGCCACAGTCTGGAGCGAAGGCTCGTGGTGGCTGGTGTCAGATTGCTCTGGGGCTGTGCTATGCCACCTTGGTCACCTCATCAAGCTGGAATGTCCTGAGCCTTTCGCTCAGAGAACCTTGCACTATGGCTTGTTCCCAGATTGTGAAACTTCCCATATGCAAAAATGCTTGGTTTGGTTTTTTTGGTTTTTGTTTTTGTTTTCTTTTTTAAATACATATATATATGTAACAACAGCAACAACAAAATTTTGTTTTATTTTGTGTCAATTCAAATAAATTAATGATGCCTCC'}"
      ]
     },
     "execution_count": 132,
     "metadata": {},
     "output_type": "execute_result"
    }
   ],
   "source": [
    "search('leptin', species = 'mus musculus')"
   ]
  },
  {
   "cell_type": "code",
   "execution_count": 149,
   "metadata": {},
   "outputs": [
    {
     "name": "stdout",
     "output_type": "stream",
     "text": [
      "alcohol dehydrogenase\n",
      "glucose-1-phosphatase\n",
      "glucose-6-phosphate 1-epimerase\n",
      "glucokinase\n"
     ]
    }
   ],
   "source": [
    "# Input data:\n",
    "genes = {'Glycolysis': [\"alcohol dehydrogenase\", \n",
    "                        \"glucose 1 phosphatase\", \n",
    "                        \"glucose-6-phosphate 1-epimerase\", \n",
    "                       \"glucokinase\"],\n",
    "        'TCA': [\"phosphoenolpyruvate carboxykinase\",\n",
    "               \"pyruvate carboxylase\",\n",
    "               \"korA\",\n",
    "               \"citrate synthase\"],\n",
    "         'Pentose Phosphate': # [E4.3.1.9, EC 4.2.1.39   ]\n",
    "             [\"glucosaminate ammonia-lyase\", \n",
    "               \"2-dehydro-3-deoxy-phosphogluconate\", \n",
    "              \"gluconate dehydratase\",\n",
    "              \"2-dehydro-3-deoxygluconokinase\"]\n",
    "         \n",
    "        }\n",
    "species = ['Homo sapien', 'Drosophila melanogaster', 'Escherichia coli']\n",
    "print(\"\\n\".join(genes['Glycolysis']))"
   ]
  },
  {
   "cell_type": "code",
   "execution_count": 151,
   "metadata": {},
   "outputs": [],
   "source": [
    "# Helper function: visualizes the elements in the database\n",
    "def sql_fetch(con):\n",
    " \n",
    "    cursorObj = con.cursor()\n",
    " \n",
    "    cursorObj.execute('SELECT * FROM genes')\n",
    " \n",
    "    rows = cursorObj.fetchall()\n",
    " \n",
    "    for row in rows:\n",
    " \n",
    "        print(row)\n",
    "# sql_fetch(conn)"
   ]
  },
  {
   "cell_type": "markdown",
   "metadata": {},
   "source": [
    "# Lab 4 \n",
    "\n",
    "## Database Design \n",
    "\n",
    "### 4 tables:\n",
    "    1.) Gene table: contains tuples of:\n",
    "            {geneID, species, sequence}\n",
    "    2.) Pathway descriptions: contains tuples of:\n",
    "            {pathway name, pathway description}\n",
    "    3.) Enzyme: contains tuples of:\n",
    "            {enzyme name, geneID, function}\n",
    "    4.) Pathway_details: contains tuples of:\n",
    "            {enzyme name, A pathway that the enzyme belongs to, index of that enzyme}"
   ]
  },
  {
   "cell_type": "code",
   "execution_count": 152,
   "metadata": {},
   "outputs": [
    {
     "name": "stdout",
     "output_type": "stream",
     "text": [
      "{'organism': 'Homo sapiens', 'geneID': 'L33179', 'type': 'mRNA', 'sequence': 'ATGGGCACTGCTGGAAAAGTTATTAAGTGCAAAGCAGCTGTGCTTTGGGAGCAGAAGCAACCCTTCTCCATTGAGGAAATAGAAGTTGCCCCACCAAAGACTAAAGAAGTTCGCATTAAGATTTTGGCCACAGGAATCTGTCGCACAGATGACCATGTGATAAAAGGAACAATGGTGTCCAAGTTTCCAGTGATTGTGGGACATGAGGCAACTGGGATTGTAGAGAGCATTGGAGAAGGAGTGACTACAGTGAAACCAGGTGACAAAGTCATCCCTCTCTTTCTGCCACAATGTAGAGAATGCAATGCTTGTCGCAACCCAGATGGCAACCTTTGCATTAGGAGCGATATTACTGGTCGTGGAGTACTGGCTGATGGCACCACCAGATTTACATGCAAGGGCAAACCAGTCCACCACTTCATGAACACCAGTACATTTACCGAGTACACAGTGGTGGATGAATCTTCTGTTGCTAAGATTGATGATGCAGCTCCTCCTGAGAAAGTCTGTTTAATTGGCTGTGGGTTTTCCACTGGATATGGCGCTGCTGTTAAAACTGGCAAGGTCAAACCTGGTTCCACTTGCGTCGTCTTTGGCCTGGGAGGAGTTGGCCTGTCAGTCATCATGGGCTGTAAGTCAGCTGGTGCATCTAGGATCATTGGGATTGACCTCAACAAAGACAAATTTGAGAAGGCCATGGCTGTAGGTGCCACTGAGTGTATCAGTCCCAAGGACTCTACCAAACCCATCAGTGAGGTGCTGTCAGAAATGACAGGCAACAACGTGGGATACACCTTTGAAGTTATTGGGCATCTTGAAACCATGATTGATGCCCTGGCATCCTGCCACATGAACTATGGGACCAGCGTGGTTGTAGGAGTTCCTCCATCAGCCAAGATGCTCACCTATGACCCGATGTTGCTCTTCACTGGACGCACATGGAAGGGATGTGTCTTTGGAGGTTTGAAAAGCAGAGATGATGTCCCAAAACTAGTGACTGAGTTCCTGGCAAAGAAATTTGACCTGGACCAGTTGATAACTCATGTTTTACCATTTAAAAAAATCAGTGAAGGATTTGAGCTGCTCAATTCAGGACAAAGCATTCGAACGGTCCTGACGTTTTGA'}\n",
      "None\n"
     ]
    },
    {
     "ename": "AttributeError",
     "evalue": "'NoneType' object has no attribute 'get'",
     "output_type": "error",
     "traceback": [
      "\u001b[0;31m---------------------------------------------------------------------------\u001b[0m",
      "\u001b[0;31mAttributeError\u001b[0m                            Traceback (most recent call last)",
      "\u001b[0;32m<ipython-input-152-e277ddcce6ba>\u001b[0m in \u001b[0;36m<module>\u001b[0;34m\u001b[0m\n\u001b[1;32m      4\u001b[0m         \u001b[0mresult\u001b[0m \u001b[0;34m=\u001b[0m \u001b[0msearch\u001b[0m\u001b[0;34m(\u001b[0m\u001b[0mg\u001b[0m\u001b[0;34m,\u001b[0m \u001b[0mspecies\u001b[0m\u001b[0;34m=\u001b[0m\u001b[0msp\u001b[0m\u001b[0;34m)\u001b[0m\u001b[0;34m\u001b[0m\u001b[0;34m\u001b[0m\u001b[0m\n\u001b[1;32m      5\u001b[0m         \u001b[0mprint\u001b[0m\u001b[0;34m(\u001b[0m\u001b[0mresult\u001b[0m\u001b[0;34m)\u001b[0m\u001b[0;34m\u001b[0m\u001b[0;34m\u001b[0m\u001b[0m\n\u001b[0;32m----> 6\u001b[0;31m         \u001b[0maddToGeneDB\u001b[0m\u001b[0;34m(\u001b[0m\u001b[0mresult\u001b[0m\u001b[0;34m,\u001b[0m \u001b[0;34m\"genes\"\u001b[0m\u001b[0;34m)\u001b[0m\u001b[0;34m\u001b[0m\u001b[0;34m\u001b[0m\u001b[0m\n\u001b[0m\u001b[1;32m      7\u001b[0m \u001b[0;34m\u001b[0m\u001b[0m\n\u001b[1;32m      8\u001b[0m         \u001b[0;31m# time.sleep(0.3)\u001b[0m\u001b[0;34m\u001b[0m\u001b[0;34m\u001b[0m\u001b[0;34m\u001b[0m\u001b[0m\n",
      "\u001b[0;32m<ipython-input-127-420d42e631be>\u001b[0m in \u001b[0;36maddToGeneDB\u001b[0;34m(gene_dict, geneDB)\u001b[0m\n\u001b[1;32m      6\u001b[0m \u001b[0;34m\u001b[0m\u001b[0m\n\u001b[1;32m      7\u001b[0m     c.execute(\"INSERT INTO genes (geneID, type, species, sequence) VALUES \\\n\u001b[0;32m----> 8\u001b[0;31m                 ('{geneID}', '{t}', '{sp}', '{seq}')\".format(geneID = gene_dict.get(\"geneID\"),\n\u001b[0m\u001b[1;32m      9\u001b[0m                                                     \u001b[0mt\u001b[0m \u001b[0;34m=\u001b[0m \u001b[0mgene_dict\u001b[0m\u001b[0;34m.\u001b[0m\u001b[0mget\u001b[0m\u001b[0;34m(\u001b[0m\u001b[0;34m\"type\"\u001b[0m\u001b[0;34m)\u001b[0m\u001b[0;34m,\u001b[0m\u001b[0;34m\u001b[0m\u001b[0;34m\u001b[0m\u001b[0m\n\u001b[1;32m     10\u001b[0m                                                     \u001b[0msp\u001b[0m \u001b[0;34m=\u001b[0m \u001b[0mgene_dict\u001b[0m\u001b[0;34m.\u001b[0m\u001b[0mget\u001b[0m\u001b[0;34m(\u001b[0m\u001b[0;34m\"organism\"\u001b[0m\u001b[0;34m)\u001b[0m\u001b[0;34m,\u001b[0m\u001b[0;34m\u001b[0m\u001b[0;34m\u001b[0m\u001b[0m\n",
      "\u001b[0;31mAttributeError\u001b[0m: 'NoneType' object has no attribute 'get'"
     ]
    }
   ],
   "source": [
    "# Now, generate the gene database:\n",
    "for sp in species:\n",
    "    for g in genes.get(\"Glycolysis\"):\n",
    "        result = search(g, species=sp)\n",
    "        print(result)\n",
    "        addToGeneDB(result, \"genes\")\n",
    "        \n",
    "        # time.sleep(0.3)"
   ]
  },
  {
   "cell_type": "raw",
   "metadata": {},
   "source": [
    "# Assignment outline: #\n",
    "\n",
    "for gene:\n",
    "    for species:\n",
    "        result = search(gene, species)\n",
    "        db.add(result.parse())\n",
    "        \n"
   ]
  }
 ],
 "metadata": {
  "kernelspec": {
   "display_name": "Python 3",
   "language": "python",
   "name": "python3"
  },
  "language_info": {
   "codemirror_mode": {
    "name": "ipython",
    "version": 3
   },
   "file_extension": ".py",
   "mimetype": "text/x-python",
   "name": "python",
   "nbconvert_exporter": "python",
   "pygments_lexer": "ipython3",
   "version": "3.7.3"
  }
 },
 "nbformat": 4,
 "nbformat_minor": 2
}
