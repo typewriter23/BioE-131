{
 "cells": [
  {
   "cell_type": "code",
   "execution_count": 11,
   "metadata": {},
   "outputs": [],
   "source": [
    "# Lab 5\n",
    "## BioE 131; October 3, 2019\n",
    "## Author: Jerry Yang\n",
    "\n",
    "# Sequence for the NOT gate:\n",
    "not_seq = \"GGCAG GUACA UACAG CUGUA UGAGU \\\n",
    "            CCCAA AUAGG ACGAA ACGCG ACGAA \\\n",
    "            A \\\n",
    "            C\"\n",
    "random_seq = \"CGTTATGCTCCATTTCGGTCAGTGGGTCACAGCTAGTTGTGGATTGGATT@\"\n",
    "\n"
   ]
  },
  {
   "cell_type": "code",
   "execution_count": 3,
   "metadata": {},
   "outputs": [],
   "source": [
    "import pandas as pd\n",
    "import numpy as np\n",
    "import subprocess"
   ]
  },
  {
   "cell_type": "code",
   "execution_count": null,
   "metadata": {},
   "outputs": [],
   "source": [
    "# : (1) riboswitch name, (2) start and end coordinates of OBS-1 (blue region), (3) start\n",
    "# and end coordinates of OBS-2 (blue region, only applicable to AND-1 and OR-1), and (4) start\n",
    "# and end coordinates of the two red regions."
   ]
  },
  {
   "cell_type": "code",
   "execution_count": 2,
   "metadata": {},
   "outputs": [],
   "source": [
    "not_data = (\"NOT\", (0, -1),  (0, -1), (0, -1))"
   ]
  },
  {
   "cell_type": "code",
   "execution_count": 12,
   "metadata": {},
   "outputs": [
    {
     "name": "stdout",
     "output_type": "stream",
     "text": [
      "\n"
     ]
    }
   ],
   "source": [
    "proc = subprocess.run([\"RNAfold\"], input=bytes(random_seq, 'ascii'), stdout=subprocess.PIPE, stderr=subprocess.PIPE, check=True)\n",
    "\n",
    "print(proc.stderr.decode())"
   ]
  },
  {
   "cell_type": "code",
   "execution_count": 13,
   "metadata": {},
   "outputs": [
    {
     "name": "stdout",
     "output_type": "stream",
     "text": [
      "Fontconfig warning: ignoring C.UTF-8: not a valid language tag\r\n"
     ]
    }
   ],
   "source": [
    "!ps2pdf rna.ps"
   ]
  }
 ],
 "metadata": {
  "kernelspec": {
   "display_name": "Python 3",
   "language": "python",
   "name": "python3"
  },
  "language_info": {
   "codemirror_mode": {
    "name": "ipython",
    "version": 3
   },
   "file_extension": ".py",
   "mimetype": "text/x-python",
   "name": "python",
   "nbconvert_exporter": "python",
   "pygments_lexer": "ipython3",
   "version": "3.7.3"
  }
 },
 "nbformat": 4,
 "nbformat_minor": 2
}
