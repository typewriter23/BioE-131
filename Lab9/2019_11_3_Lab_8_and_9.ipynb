{
 "cells": [
  {
   "cell_type": "markdown",
   "metadata": {},
   "source": [
    "# BioE 131 Lab 8 and 9\n",
    "# Author: Jerry Yang\n",
    "\n"
   ]
  },
  {
   "cell_type": "markdown",
   "metadata": {},
   "source": [
    "# Lab 8:\n",
    "## Why do we expect short reads to produce a more fragmented assembly than long reads? \n",
    "Since the genome is so long and the reads are very short in comparison, the probability that a certain region of DNA gets degraded or at low coverage gets very high. Thus, many short reads lead to greater fragments\n",
    "\n",
    "## Why does a single-molecule sequencing like PacBio have a higher error rate than Illumina? \n",
    "Single molecule sequencing is less accurate because it involves fewer repetitions of sequencing (i.e. usually has less coverage). In addition, since each read corresponds to a single piece of DNA being read, the signal can be easily confused if there are small changes in the local environment. Contrast this to short reads, which have many repetitions in order to ensure the quality of biological signal."
   ]
  },
  {
   "cell_type": "markdown",
   "metadata": {},
   "source": [
    "## Why\tis\tN50\tis\tuseful\tstatistic\tto\tcalculate?\tWhy\tnot\tjust\tlist\tthe\tmean\tor\tmedian\tcontig\tlength?\n",
    "The N50 is a measurement that basically represents the weighted median contig. It gives greater weight to longer contigs (i.e. if you have a couple of very good contigs that cover most of your genome, you'll report this as being better than having many decent contigs that each only cover a small portion of the genome).\n",
    "\n",
    "\t\n",
    "## In\tyour\tassembly,\tare\tscaffolds\tlonger\tthan\tcontigs,\tor\tare\tscaffolds\tapproximately\tequal\tto contigs?\n",
    "They are approximately the same length, with the mean length of contigs being slightly shorter"
   ]
  },
  {
   "cell_type": "code",
   "execution_count": 32,
   "metadata": {},
   "outputs": [
    {
     "ename": "SyntaxError",
     "evalue": "invalid syntax (<ipython-input-32-73e45ac79ac8>, line 6)",
     "output_type": "error",
     "traceback": [
      "\u001b[0;36m  File \u001b[0;32m\"<ipython-input-32-73e45ac79ac8>\"\u001b[0;36m, line \u001b[0;32m6\u001b[0m\n\u001b[0;31m    Traceback (most recent call last):\u001b[0m\n\u001b[0m                         ^\u001b[0m\n\u001b[0;31mSyntaxError\u001b[0m\u001b[0;31m:\u001b[0m invalid syntax\n"
     ]
    }
   ],
   "source": [
    "# SPAdes command:\n",
    "!spades.py -1 /data/Lab8_data/illumina_reads_R1.fastq -2 /data/Lab8_data/illumina_reads_R2.fastq --pacbio /data/Lab8_data/pacbio_reads.fastq -t 1 -o ./\n",
    "\n",
    "# Output: Failed! \n",
    "\n",
    "Traceback (most recent call last):\n",
    "  File \"/home/softwares/SPAdes-3.13.1-Linux/bin/spades.py\", line 797, in main\n",
    "    ext_python_modules_home, only_compressing_is_needed, log)\n",
    "  File \"/bigdata/home/softwares/SPAdes-3.13.1-Linux/share/spades/spades_pipeline/hammer_logic.p\n",
    "y\", line 146, in run_hammer\n",
    "    support.sys_call(command, log)\n",
    "  File \"/bigdata/home/softwares/SPAdes-3.13.1-Linux/share/spades/spades_pipeline/support.py\", l\n",
    "ine 245, in sys_call\n",
    "    line = process_readline(proc.stdout.readline())\n",
    "KeyboardInterrupt\n",
    "\n",
    "\n",
    "== Error ==  exception caught: <type 'exceptions.KeyboardInterrupt'>\n",
    "# I think this failed because of memory issues/architecture issues. Perhaps multiple people were requesting cores that made them unavailable to me at the time that I ran this command. Regardless, when I checked on it after a while, it had not finished and I manually broke the pipe to check on it."
   ]
  },
  {
   "cell_type": "markdown",
   "metadata": {},
   "source": [
    "# Lab 9: Extra Credit\n"
   ]
  },
  {
   "cell_type": "code",
   "execution_count": 31,
   "metadata": {},
   "outputs": [],
   "source": [
    "# Want to extract the contigs data, obtaining a vector of coverage values\n",
    "# Then want to make a histogram of coverage values\n",
    "\n",
    "# Plan of attack: extract contigs.fa using biopython\n",
    "# Extract all of the descriptions\n",
    "# Use pattern matching to get the coverage values\n",
    "# Plot frequency histogram\n"
   ]
  },
  {
   "cell_type": "code",
   "execution_count": 13,
   "metadata": {},
   "outputs": [
    {
     "data": {
      "text/plain": [
       "['NODE_1_length_687571_cov_8.345136',\n",
       " 'NODE_2_length_414008_cov_7.742363',\n",
       " 'NODE_3_length_378948_cov_10.013238']"
      ]
     },
     "execution_count": 13,
     "metadata": {},
     "output_type": "execute_result"
    }
   ],
   "source": [
    "from Bio.Seq import Seq\n",
    "from Bio.SeqRecord import SeqRecord\n",
    "from Bio.Alphabet import generic_protein\n",
    "from Bio import SeqIO\n",
    "from Bio import Phylo\n",
    "import numpy as np\n",
    "import matplotlib.pyplot as plt\n",
    "import time\n",
    "import re\n",
    "\n",
    "descriptions = []\n",
    "for seq_rec in SeqIO.parse(\"/data/Lab9_data/contigs.fasta\", \"fasta\"):   \n",
    "    descriptions.append(seq_rec.description)\n",
    "descriptions[0:3]"
   ]
  },
  {
   "cell_type": "code",
   "execution_count": 16,
   "metadata": {},
   "outputs": [
    {
     "name": "stdout",
     "output_type": "stream",
     "text": [
      "8.345136\n"
     ]
    }
   ],
   "source": [
    "def extract_cov(des):\n",
    "    \"\"\" Extracts the coverage from the description\"\"\"\n",
    "    words = des.split(\"cov_\")\n",
    "    cov_val = words[1]\n",
    "    return cov_val\n",
    "\n",
    "print(extract_cov(descriptions[0]))"
   ]
  },
  {
   "cell_type": "code",
   "execution_count": 26,
   "metadata": {},
   "outputs": [
    {
     "data": {
      "text/plain": [
       "[8.345136,\n",
       " 7.742363,\n",
       " 10.013238,\n",
       " 8.27163,\n",
       " 8.930188,\n",
       " 7.70554,\n",
       " 8.708502,\n",
       " 9.408938,\n",
       " 7.139166,\n",
       " 8.643695,\n",
       " 7.908537,\n",
       " 6.974964,\n",
       " 8.264213,\n",
       " 7.406215,\n",
       " 8.848485,\n",
       " 8.573446,\n",
       " 9.58734,\n",
       " 8.773279,\n",
       " 7.420563,\n",
       " 7.11981,\n",
       " 8.039651,\n",
       " 10.083467,\n",
       " 7.788822,\n",
       " 7.848049,\n",
       " 7.600625,\n",
       " 7.085566,\n",
       " 7.570651,\n",
       " 8.551374,\n",
       " 7.722991,\n",
       " 9.31012,\n",
       " 8.122375,\n",
       " 8.237615,\n",
       " 7.422057,\n",
       " 6.478663,\n",
       " 8.118404,\n",
       " 7.620261,\n",
       " 7.990053,\n",
       " 7.441171,\n",
       " 7.613897,\n",
       " 7.22619,\n",
       " 7.314205,\n",
       " 8.458643,\n",
       " 8.956212,\n",
       " 14.049242,\n",
       " 10.363252,\n",
       " 5.267947,\n",
       " 7.087196,\n",
       " 5.388827,\n",
       " 0.708005,\n",
       " 9.625,\n",
       " 6.539275,\n",
       " 4.627151,\n",
       " 0.951477,\n",
       " 0.812236,\n",
       " 0.78481,\n",
       " 6.890063,\n",
       " 0.945032,\n",
       " 0.915433,\n",
       " 0.894292,\n",
       " 0.862579,\n",
       " 0.707207,\n",
       " 9.168293,\n",
       " 0.98005,\n",
       " 0.630102,\n",
       " 0.924675,\n",
       " 0.97878,\n",
       " 0.929919,\n",
       " 0.937669,\n",
       " 0.834688,\n",
       " 0.9375,\n",
       " 0.929348,\n",
       " 0.937158,\n",
       " 1.097493,\n",
       " 0.944134,\n",
       " 1.002801,\n",
       " 0.977401,\n",
       " 0.977337,\n",
       " 0.864023,\n",
       " 0.982906,\n",
       " 1.054755,\n",
       " 0.809798,\n",
       " 0.742775,\n",
       " 0.994186,\n",
       " 0.94186,\n",
       " 1.055394,\n",
       " 1.008772,\n",
       " 0.918129,\n",
       " 1.008798,\n",
       " 0.970674,\n",
       " 0.692082,\n",
       " 1.02071,\n",
       " 1.026706,\n",
       " 0.952381,\n",
       " 1.026866,\n",
       " 0.979042,\n",
       " 0.855856,\n",
       " 1.638554,\n",
       " 1.012048,\n",
       " 1.039275,\n",
       " 1.021148,\n",
       " 0.740181,\n",
       " 1.045455,\n",
       " 0.936364,\n",
       " 0.848485,\n",
       " 0.681818,\n",
       " 0.963526,\n",
       " 0.595745,\n",
       " 1.0,\n",
       " 0.853659,\n",
       " 2.276074,\n",
       " 0.92638,\n",
       " 0.920245,\n",
       " 0.769939,\n",
       " 1.0,\n",
       " 0.987692,\n",
       " 0.969231,\n",
       " 0.963077,\n",
       " 0.849231,\n",
       " 1.055556,\n",
       " 1.006173,\n",
       " 0.728395,\n",
       " 1.065015,\n",
       " 0.928571,\n",
       " 1.071651,\n",
       " 1.053125,\n",
       " 0.984375,\n",
       " 0.8875,\n",
       " 0.9279,\n",
       " 0.815047,\n",
       " 0.877358,\n",
       " 0.940063,\n",
       " 0.782334,\n",
       " 1.092063,\n",
       " 0.879365,\n",
       " 0.773885,\n",
       " 0.84984,\n",
       " 1.092949,\n",
       " 0.887821,\n",
       " 0.836013,\n",
       " 1.093548,\n",
       " 0.970968,\n",
       " 1.135922,\n",
       " 1.11039,\n",
       " 0.847403,\n",
       " 0.934853,\n",
       " 0.898693,\n",
       " 0.800654,\n",
       " 0.787582,\n",
       " 0.895082,\n",
       " 0.852459,\n",
       " 1.082237,\n",
       " 0.907895,\n",
       " 0.910891,\n",
       " 6.836,\n",
       " 6.79803,\n",
       " 11.80597,\n",
       " 6.305085,\n",
       " 3.566265,\n",
       " 13.716312,\n",
       " 2.442029,\n",
       " 25.487805,\n",
       " 13.710526,\n",
       " 17.648148,\n",
       " 37.012821,\n",
       " 4.408451,\n",
       " 8.758065,\n",
       " 6.785714,\n",
       " 2.042553,\n",
       " 13.767442,\n",
       " 2.692308,\n",
       " 8.297297,\n",
       " 4.84375,\n",
       " 17.055556,\n",
       " 14.785714,\n",
       " 7.071429,\n",
       " 5.714286,\n",
       " 4.214286,\n",
       " 17.0,\n",
       " 1536.0,\n",
       " 150.0]"
      ]
     },
     "execution_count": 26,
     "metadata": {},
     "output_type": "execute_result"
    }
   ],
   "source": [
    "cov_vals = []\n",
    "for des in descriptions:\n",
    "    c_v = float(extract_cov(des))\n",
    "    cov_vals.append(c_v)\n",
    "    \n",
    "cov_vals"
   ]
  },
  {
   "cell_type": "code",
   "execution_count": 28,
   "metadata": {},
   "outputs": [
    {
     "data": {
      "text/plain": [
       "Text(0.5, 1.0, 'Coverage Values')"
      ]
     },
     "execution_count": 28,
     "metadata": {},
     "output_type": "execute_result"
    },
    {
     "data": {
      "image/png": "[encoded data removed]",
      "text/plain": [
       "<Figure size 432x288 with 1 Axes>"
      ]
     },
     "metadata": {
      "needs_background": "light"
     },
     "output_type": "display_data"
    }
   ],
   "source": [
    "# Stolen from: https://realpython.com/python-histograms/\n",
    "\n",
    "import matplotlib.pyplot as plt\n",
    "\n",
    "# An \"interface\" to matplotlib.axes.Axes.hist() method\n",
    "n, bins, patches = plt.hist(x=cov_vals, bins='auto',\n",
    "                            alpha=0.7, rwidth=0.85)\n",
    "# plt.grid(axis='y', alpha=0.75)\n",
    "plt.xlabel('Value')\n",
    "plt.ylabel('Frequency')\n",
    "plt.title('Coverage Values')\n",
    "# maxfreq = n.max()\n",
    "# Set a clean upper y-axis limit.\n",
    "# plt.ylim(ymax=np.ceil(maxfreq / 10) * 10 if maxfreq % 10 else maxfreq + 10)"
   ]
  },
  {
   "cell_type": "code",
   "execution_count": 30,
   "metadata": {},
   "outputs": [
    {
     "data": {
      "text/plain": [
       "Text(0.5, 1.0, 'Coverage Values')"
      ]
     },
     "execution_count": 30,
     "metadata": {},
     "output_type": "execute_result"
    },
    {
     "data": {
      "image/png": "[encoded data removed]",
      "text/plain": [
       "<Figure size 432x288 with 1 Axes>"
      ]
     },
     "metadata": {
      "needs_background": "light"
     },
     "output_type": "display_data"
    }
   ],
   "source": [
    "# Excluding valaues at 150 and 156:\n",
    "# Stolen from: https://realpython.com/python-histograms/\n",
    "\n",
    "cov_new = [c for c in cov_vals if c < 140]\n",
    "import matplotlib.pyplot as plt\n",
    "\n",
    "# An \"interface\" to matplotlib.axes.Axes.hist() method\n",
    "n, bins, patches = plt.hist(x=cov_new, bins='auto',\n",
    "                            alpha=0.7, rwidth=0.85)\n",
    "# plt.grid(axis='y', alpha=0.75)\n",
    "plt.xlabel('Value')\n",
    "plt.ylabel('Frequency')\n",
    "plt.title('Coverage Values')\n",
    "# maxfreq = n.max()\n",
    "# Set a clean upper y-axis limit.\n",
    "# plt.ylim(ymax=np.ceil(maxfreq / 10) * 10 if maxfreq % 10 else maxfreq + 10)"
   ]
  },
  {
   "cell_type": "markdown",
   "metadata": {},
   "source": [
    "## Is\tcoverage\tuniformly\tdistributed?\tDoes\tit\tlook\tGaussian?\tIs\tit\tbimodal\tor\ttrimodal?\t\n",
    "\n",
    "This distribution appears to be bimodal, with peaks at 0 and ~7-8. No the coverage is no uniformly distributed.\n",
    "\n",
    "## What\texplains\tthe\tpresence\tof\tcontigs\twith\tcoverage\tan\tinteger\tmultiple\tof\tthe\tmean\tcoverage?\n",
    "These may be regions with multiple copy number (i.e. genes that have been duplicated). Thus the quantity of these genes appear in interger multiples of each other."
   ]
  },
  {
   "cell_type": "code",
   "execution_count": 1,
   "metadata": {},
   "outputs": [
    {
     "name": "stdout",
     "output_type": "stream",
     "text": [
      "filename\ttotal_length\tnumber\tmean_length\tlongest\tshortest\tN_count\tGaps\tN50\tN50n\tN70\tN70n\tN90\tN90n\r\n",
      "/data/Lab9_data/scaffolds.fasta\t6680345\t176\t37956.51\t687571\t129\t20\t2\t234690\t10\t154232\t17\t83515\t29\r\n"
     ]
    }
   ],
   "source": [
    "!assembly-stats -t /data/Lab9_data/scaffolds.fasta"
   ]
  },
  {
   "cell_type": "code",
   "execution_count": 3,
   "metadata": {
    "scrolled": true
   },
   "outputs": [
    {
     "name": "stdout",
     "output_type": "stream",
     "text": [
      "filename\ttotal_length\tnumber\tmean_length\tlongest\tshortest\tN_count\tGaps\tN50\tN50n\tN70\tN70n\tN90\tN90n\r\n",
      "/data/Lab9_data/contigs.fasta\t6680581\t180\t37114.34\t687571\t128\t0\t0\t234690\t10\t154232\t17\t81821\t29\r\n"
     ]
    }
   ],
   "source": [
    "!assembly-stats -t /data/Lab9_data/contigs.fasta"
   ]
  },
  {
   "cell_type": "code",
   "execution_count": null,
   "metadata": {},
   "outputs": [],
   "source": [
    ">NODE_22_length_103366_cov_10.083467:35530-37075\n",
    "TTTGAACTGAAGAGTTTGATCATGGCTCAGATTGAACGCTGGCGGCAGGCCTAACACATGCAAGTCGAGCGGTAGAGAGGTGCTTGCACCTCTTGAGAGCGGCGGACGGGTGAGTAATGCCTAGGAATCTGCCTGGTAGTGGGGGATAACGCTCGGAAACGGACGCTAATACCGCATACGTCCTACGGGAGAAAGCAGGGGACCTTCGGGCCTTGCGCTATCAGATGAGCCTAGGTCGGATTAGCTAGTTGGTGAGGTAATGGCTCACCAAGGCGACGATCCGTAACTGGTCTGAGAGGATGATCAGTCACACTGGAACTGAGACACGGTCCAGACTCCTACGGGAGGCAGCAGTGGGGAATATTGGACAATGGGCGAAAGCCTGATCCAGCCATGCCGCGTGTGTGAAGAAGGTCTTCGGATTGTAAAGCACTTTAAGTTGGGAGGAAGGGCAGTTACCTAATACGTAATTGTTTTGACGTTACCGACAGAATAAGCACCGGCTAACTCTGTGCCAGCAGCCGCGGTAATACAGAGGGTGCAAGCGTTAATCGGAATTACTGGGCGTAAAGCGCGCGTAGGTGGTTCGTTAAGTTGGATGTGAAATCCCCGGGCTCAACCTGGGAACTGCATTCAAAACTGACGAGCTAGAGTATGGTAGAGGGTGGTGGAATTTCCTGTGTAGCGGTGAAATGCGTAGATATAGGAAGGAACACCAGTGGCGAAGGCGACCACCTGGACTGATACTGACACTGAGGTGCGAAAGCGTGGGGAGCAAACAGGATTAGATACCCTGGTAGTCCACGCCGTAAACGATGTCAACTAGCCGTTGGGAGCCTTGAGCTCTTAGTGGCGCAGCTAACGCATTAAGTTGACCGCCTGGGGAGTACGGCCGCAAGGTTAAAACTCAAATGAATTGACGGGGGCCCGCACAAGCGGTGGAGCATGTGGTTTAATTCGAAGCAACGCGAAGAACCTTACCAGGCCTTGACATCCAATGAACTTTCCAGAGATGGATTGGTGCCTTCGGGAACATTGAGACAGGTGCTGCATGGCTGTCGTCAGCTCGTGTCGTGAGATGTTGGGTTAAGTCCCGTAACGAGCGCAACCCTTGTCCTTAGTTACCAGCACGTAATGGTGGGCACTCTAAGGAGACTGCCGGTGACAAACCGGAGGAAGGTGGGGATGACGTCAAGTCATCATGGCCCTTACGGCCTGGGCTACACACGTGCTACAATGGTCGGTACAGAGGGTTGCCAAGCCGCGAGGTGGAGCTAATCCCAGAAAACCGATCGTAGTCCGGATCGCAGTCTGCAACTCGACTGCGTGAAGTCGGAATCGCTAGTAATCGCGAATCAGAATGTCGCGGTGAATACGTTCCCGGGCCTTGTACACACCGCCCGTCACACCATGGGAGTGGGTTGCACCAGAAGTAGCTAGTCTAACCTTCGGGAGGACGGTTACCACGGTGTGATTCATGACTGGGGTGAAGTCGTAACAAGGTAGCCGTAGGGGAACCTGCGGCTGGATCACCTCCTTAATCGA\n",
    "Identification: Genus = Pseudomonas\n",
    "    Reference: https://rdp.cme.msu.edu/seqmatch/seqmatch_detailhier.jsp?qvector=255&depth=0&currentRoot=0&querySeq=seqmatch_seq&seqid=&num=20\n",
    "            \n",
    "    \n",
    "\n",
    ">NODE_17_length_154232_cov_9.587340:124541-126086\n",
    "TTTGAACTGAAGAGTTTGATCATGGCTCAGATTGAACGCTGGCGGCAGGCCTAACACATGCAAGTCGAGCGGTAGAGAGGTGCTTGCACCTCTTGAGAGCGGCGGACGGGTGAGTAATGCCTAGGAATCTGCCTGGTAGTGGGGGATAACGCTCGGAAACGGACGCTAATACCGCATACGTCCTACGGGAGAAAGCAGGGGACCTTCGGGCCTTGCGCTATCAGATGAGCCTAGGTCGGATTAGCTAGTTGGTGAGGTAATGGCTCACCAAGGCGACGATCCGTAACTGGTCTGAGAGGATGATCAGTCACACTGGAACTGAGACACGGTCCAGACTCCTACGGGAGGCAGCAGTGGGGAATATTGGACAATGGGCGAAAGCCTGATCCAGCCATGCCGCGTGTGTGAAGAAGGTCTTCGGATTGTAAAGCACTTTAAGTTGGGAGGAAGGGCAGTTACCTAATACGTAATTGTTTTGACGTTACCGACAGAATAAGCACCGGCTAACTCTGTGCCAGCAGCCGCGGTAATACAGAGGGTGCAAGCGTTAATCGGAATTACTGGGCGTAAAGCGCGCGTAGGTGGTTCGTTAAGTTGGATGTGAAATCCCCGGGCTCAACCTGGGAACTGCATTCAAAACTGACGAGCTAGAGTATGGTAGAGGGTGGTGGAATTTCCTGTGTAGCGGTGAAATGCGTAGATATAGGAAGGAACACCAGTGGCGAAGGCGACCACCTGGACTGATACTGACACTGAGGTGCGAAAGCGTGGGGAGCAAACAGGATTAGATACCCTGGTAGTCCACGCCGTAAACGATGTCAACTAGCCGTTGGGAGCCTTGAGCTCTTAGTGGCGCAGCTAACGCATTAAGTTGACCGCCTGGGGAGTACGGCCGCAAGGTTAAAACTCAAATGAATTGACGGGGGCCCGCACAAGCGGTGGAGCATGTGGTTTAATTCGAAGCAACGCGAAGAACCTTACCAGGCCTTGACATCCAATGAACTTTCCAGAGATGGATTGGTGCCTTCGGGAACATTGAGACAGGTGCTGCATGGCTGTCGTCAGCTCGTGTCGTGAGATGTTGGGTTAAGTCCCGTAACGAGCGCAACCCTTGTCCTTAGTTACCAGCACGTAATGGTGGGCACTCTAAGGAGACTGCCGGTGACAAACCGGAGGAAGGTGGGGATGACGTCAAGTCATCATGGCCCTTACGGCCTGGGCTACACACGTGCTACAATGGTCGGTACAGAGGGTTGCCAAGCCGCGAGGTGGAGCTAATCCCAGAAAACCGATCGTAGTCCGGATCGCAGTCTGCAACTCGACTGCGTGAAGTCGGAATCGCTAGTAATCGCGAATCAGAATGTCGCGGTGAATACGTTCCCGGGCCTTGTACACACCGCCCGTCACACCATGGGAGTGGGTTGCACCAGAAGTAGCTAGTCTAACCTTCGGGAGGACGGTTACCACGGTGTGATTCATGACTGGGGTGAAGTCGTAACAAGGTAGCCGTAGGGGAACCTGCGGCTGGATCACCTCCTTAATCGA\n",
    "Identification: Genus = Pseudomonas\n",
    "     Ref: https://rdp.cme.msu.edu/seqmatch/seqmatch_sum.jsp?qvector=204&depth=0&currentRoot=0&num=20\n",
    "\n",
    ">NODE_8_length_259210_cov_9.408938:63712-65257\n",
    "TCGATTAAGGAGGTGATCCAGCCGCAGGTTCCCCTACGGCTACCTTGTTACGACTTCACCCCAGTCATGAATCACACCGTGGTAACCGTCCTCCCGAAGGTTAGACTAGCTACTTCTGGTGCAACCCACTCCCATGGTGTGACGGGCGGTGTGTACAAGGCCCGGGAACGTATTCACCGCGACATTCTGATTCGCGATTACTAGCGATTCCGACTTCACGCAGTCGAGTTGCAGACTGCGATCCGGACTACGATCGGTTTTCTGGGATTAGCTCCACCTCGCGGCTTGGCAACCCTCTGTACCGACCATTGTAGCACGTGTGTAGCCCAGGCCGTAAGGGCCATGATGACTTGACGTCATCCCCACCTTCCTCCGGTTTGTCACCGGCAGTCTCCTTAGAGTGCCCACCATTACGTGCTGGTAACTAAGGACAAGGGTTGCGCTCGTTACGGGACTTAACCCAACATCTCACGACACGAGCTGACGACAGCCATGCAGCACCTGTCTCAATGTTCCCGAAGGCACCAATCCATCTCTGGAAAGTTCATTGGATGTCAAGGCCTGGTAAGGTTCTTCGCGTTGCTTCGAATTAAACCACATGCTCCACCGCTTGTGCGGGCCCCCGTCAATTCATTTGAGTTTTAACCTTGCGGCCGTACTCCCCAGGCGGTCAACTTAATGCGTTAGCTGCGCCACTAAGAGCTCAAGGCTCCCAACGGCTAGTTGACATCGTTTACGGCGTGGACTACCAGGGTATCTAATCCTGTTTGCTCCCCACGCTTTCGCACCTCAGTGTCAGTATCAGTCCAGGTGGTCGCCTTCGCCACTGGTGTTCCTTCCTATATCTACGCATTTCACCGCTACACAGGAAATTCCACCACCCTCTACCATACTCTAGCTCGTCAGTTTTGAATGCAGTTCCCAGGTTGAGCCCGGGGATTTCACATCCAACTTAACGAACCACCTACGCGCGCTTTACGCCCAGTAATTCCGATTAACGCTTGCACCCTCTGTATTACCGCGGCTGCTGGCACAGAGTTAGCCGGTGCTTATTCTGTCGGTAACGTCAAAACAATTACGTATTAGGTAACTGCCCTTCCTCCCAACTTAAAGTGCTTTACAATCCGAAGACCTTCTTCACACACGCGGCATGGCTGGATCAGGCTTTCGCCCATTGTCCAATATTCCCCACTGCTGCCTCCCGTAGGAGTCTGGACCGTGTCTCAGTTCCAGTGTGACTGATCATCCTCTCAGACCAGTTACGGATCGTCGCCTTGGTGAGCCATTACCTCACCAACTAGCTAATCCGACCTAGGCTCATCTGATAGCGCAAGGCCCGAAGGTCCCCTGCTTTCTCCCGTAGGACGTATGCGGTATTAGCGTCCGTTTCCGAGCGTTATCCCCCACTACCAGGCAGATTCCTAGGCATTACTCACCCGTCCGCCGCTCTCAAGAGGTGCAAGCACCTCTCTACCGCTCGACTTGCATGTGTTAGGCCTGCCGCCAGCGTTCAATCTGAGCCATGATCAAACTCTTCAGTTCAAA\n",
    "Identification: Genus = Pseudomonas\n",
    "\n",
    ">NODE_5_length_298800_cov_8.930188:13928-15473\n",
    "TTTGAACTGAAGAGTTTGATCATGGCTCAGATTGAACGCTGGCGGCAGGCCTAACACATGCAAGTCGAGCGGTAGAGAGGTGCTTGCACCTCTTGAGAGCGGCGGACGGGTGAGTAATGCCTAGGAATCTGCCTGGTAGTGGGGGATAACGCTCGGAAACGGACGCTAATACCGCATACGTCCTACGGGAGAAAGCAGGGGACCTTCGGGCCTTGCGCTATCAGATGAGCCTAGGTCGGATTAGCTAGTTGGTGAGGTAATGGCTCACCAAGGCGACGATCCGTAACTGGTCTGAGAGGATGATCAGTCACACTGGAACTGAGACACGGTCCAGACTCCTACGGGAGGCAGCAGTGGGGAATATTGGACAATGGGCGAAAGCCTGATCCAGCCATGCCGCGTGTGTGAAGAAGGTCTTCGGATTGTAAAGCACTTTAAGTTGGGAGGAAGGGCAGTTACCTAATACGTAATTGTTTTGACGTTACCGACAGAATAAGCACCGGCTAACTCTGTGCCAGCAGCCGCGGTAATACAGAGGGTGCAAGCGTTAATCGGAATTACTGGGCGTAAAGCGCGCGTAGGTGGTTCGTTAAGTTGGATGTGAAATCCCCGGGCTCAACCTGGGAACTGCATTCAAAACTGACGAGCTAGAGTATGGTAGAGGGTGGTGGAATTTCCTGTGTAGCGGTGAAATGCGTAGATATAGGAAGGAACACCAGTGGCGAAGGCGACCACCTGGACTGATACTGACACTGAGGTGCGAAAGCGTGGGGAGCAAACAGGATTAGATACCCTGGTAGTCCACGCCGTAAACGATGTCAACTAGCCGTTGGGAGCCTTGAGCTCTTAGTGGCGCAGCTAACGCATTAAGTTGACCGCCTGGGGAGTACGGCCGCAAGGTTAAAACTCAAATGAATTGACGGGGGCCCGCACAAGCGGTGGAGCATGTGGTTTAATTCGAAGCAACGCGAAGAACCTTACCAGGCCTTGACATCCAATGAACTTTCCAGAGATGGATTGGTGCCTTCGGGAACATTGAGACAGGTGCTGCATGGCTGTCGTCAGCTCGTGTCGTGAGATGTTGGGTTAAGTCCCGTAACGAGCGCAACCCTTGTCCTTAGTTACCAGCACGTAATGGTGGGCACTCTAAGGAGACTGCCGGTGACAAACCGGAGGAAGGTGGGGATGACGTCAAGTCATCATGGCCCTTACGGCCTGGGCTACACACGTGCTACAATGGTCGGTACAGAGGGTTGCCAAGCCGCGAGGTGGAGCTAATCCCAGAAAACCGATCGTAGTCCGGATCGCAGTCTGCAACTCGACTGCGTGAAGTCGGAATCGCTAGTAATCGCGAATCAGAATGTCGCGGTGAATACGTTCCCGGGCCTTGTACACACCGCCCGTCACACCATGGGAGTGGGTTGCACCAGAAGTAGCTAGTCTAACCTTCGGGAGGACGGTTACCACGGTGTGATTCATGACTGGGGTGAAGTCGTAACAAGGTAGCCGTAGGGGAACCTGCGGCTGGATCACCTCCTTAATCGA\n",
    "Identification: Genus = Pseudomonas\n",
    "\n",
    ">NODE_3_length_378948_cov_10.013238:348499-350044\n",
    "TTTGAACTGAAGAGTTTGATCATGGCTCAGATTGAACGCTGGCGGCAGGCCTAACACATGCAAGTCGAGCGGTAGAGAGGTGCTTGCACCTCTTGAGAGCGGCGGACGGGTGAGTAATGCCTAGGAATCTGCCTGGTAGTGGGGGATAACGCTCGGAAACGGACGCTAATACCGCATACGTCCTACGGGAGAAAGCAGGGGACCTTCGGGCCTTGCGCTATCAGATGAGCCTAGGTCGGATTAGCTAGTTGGTGAGGTAATGGCTCACCAAGGCGACGATCCGTAACTGGTCTGAGAGGATGATCAGTCACACTGGAACTGAGACACGGTCCAGACTCCTACGGGAGGCAGCAGTGGGGAATATTGGACAATGGGCGAAAGCCTGATCCAGCCATGCCGCGTGTGTGAAGAAGGTCTTCGGATTGTAAAGCACTTTAAGTTGGGAGGAAGGGCAGTTACCTAATACGTAATTGTTTTGACGTTACCGACAGAATAAGCACCGGCTAACTCTGTGCCAGCAGCCGCGGTAATACAGAGGGTGCAAGCGTTAATCGGAATTACTGGGCGTAAAGCGCGCGTAGGTGGTTCGTTAAGTTGGATGTGAAATCCCCGGGCTCAACCTGGGAACTGCATTCAAAACTGACGAGCTAGAGTATGGTAGAGGGTGGTGGAATTTCCTGTGTAGCGGTGAAATGCGTAGATATAGGAAGGAACACCAGTGGCGAAGGCGACCACCTGGACTGATACTGACACTGAGGTGCGAAAGCGTGGGGAGCAAACAGGATTAGATACCCTGGTAGTCCACGCCGTAAACGATGTCAACTAGCCGTTGGGAGCCTTGAGCTCTTAGTGGCGCAGCTAACGCATTAAGTTGACCGCCTGGGGAGTACGGCCGCAAGGTTAAAACTCAAATGAATTGACGGGGGCCCGCACAAGCGGTGGAGCATGTGGTTTAATTCGAAGCAACGCGAAGAACCTTACCAGGCCTTGACATCCAATGAACTTTCCAGAGATGGATTGGTGCCTTCGGGAACATTGAGACAGGTGCTGCATGGCTGTCGTCAGCTCGTGTCGTGAGATGTTGGGTTAAGTCCCGTAACGAGCGCAACCCTTGTCCTTAGTTACCAGCACGTAATGGTGGGCACTCTAAGGAGACTGCCGGTGACAAACCGGAGGAAGGTGGGGATGACGTCAAGTCATCATGGCCCTTACGGCCTGGGCTACACACGTGCTACAATGGTCGGTACAGAGGGTTGCCAAGCCGCGAGGTGGAGCTAATCCCAGAAAACCGATCGTAGTCCGGATCGCAGTCTGCAACTCGACTGCGTGAAGTCGGAATCGCTAGTAATCGCGAATCAGAATGTCGCGGTGAATACGTTCCCGGGCCTTGTACACACCGCCCGTCACACCATGGGAGTGGGTTGCACCAGAAGTAGCTAGTCTAACCTTCGGGAGGACGGTTACCACGGTGTGATTCATGACTGGGGTGAAGTCGTAACAAGGTAGCCGTAGGGGAACCTGCGGCTGGATCACCTCCTTAATCGA\n",
    "Identification: Genus - Pseudomonas\n",
    "\n",
    ">NODE_1_length_687571_cov_8.345136:46285-47830\n",
    "TTTGAACTGAAGAGTTTGATCATGGCTCAGATTGAACGCTGGCGGCAGGCCTAACACATGCAAGTCGAGCGGTAGAGAGGTGCTTGCACCTCTTGAGAGCGGCGGACGGGTGAGTAATGCCTAGGAATCTGCCTGGTAGTGGGGGATAACGCTCGGAAACGGACGCTAATACCGCATACGTCCTACGGGAGAAAGCAGGGGACCTTCGGGCCTTGCGCTATCAGATGAGCCTAGGTCGGATTAGCTAGTTGGTGAGGTAATGGCTCACCAAGGCGACGATCCGTAACTGGTCTGAGAGGATGATCAGTCACACTGGAACTGAGACACGGTCCAGACTCCTACGGGAGGCAGCAGTGGGGAATATTGGACAATGGGCGAAAGCCTGATCCAGCCATGCCGCGTGTGTGAAGAAGGTCTTCGGATTGTAAAGCACTTTAAGTTGGGAGGAAGGGCAGTTACCTAATACGTAATTGTTTTGACGTTACCGACAGAATAAGCACCGGCTAACTCTGTGCCAGCAGCCGCGGTAATACAGAGGGTGCAAGCGTTAATCGGAATTACTGGGCGTAAAGCGCGCGTAGGTGGTTCGTTAAGTTGGATGTGAAATCCCCGGGCTCAACCTGGGAACTGCATTCAAAACTGACGAGCTAGAGTATGGTAGAGGGTGGTGGAATTTCCTGTGTAGCGGTGAAATGCGTAGATATAGGAAGGAACACCAGTGGCGAAGGCGACCACCTGGACTGATACTGACACTGAGGTGCGAAAGCGTGGGGAGCAAACAGGATTAGATACCCTGGTAGTCCACGCCGTAAACGATGTCAACTAGCCGTTGGGAGCCTTGAGCTCTTAGTGGCGCAGCTAACGCATTAAGTTGACCGCCTGGGGAGTACGGCCGCAAGGTTAAAACTCAAATGAATTGACGGGGGCCCGCACAAGCGGTGGAGCATGTGGTTTAATTCGAAGCAACGCGAAGAACCTTACCAGGCCTTGACATCCAATGAACTTTCCAGAGATGGATTGGTGCCTTCGGGAACATTGAGACAGGTGCTGCATGGCTGTCGTCAGCTCGTGTCGTGAGATGTTGGGTTAAGTCCCGTAACGAGCGCAACCCTTGTCCTTAGTTACCAGCACGTAATGGTGGGCACTCTAAGGAGACTGCCGGTGACAAACCGGAGGAAGGTGGGGATGACGTCAAGTCATCATGGCCCTTACGGCCTGGGCTACACACGTGCTACAATGGTCGGTACAGAGGGTTGCCAAGCCGCGAGGTGGAGCTAATCCCAGAAAACCGATCGTAGTCCGGATCGCAGTCTGCAACTCGACTGCGTGAAGTCGGAATCGCTAGTAATCGCGAATCAGAATGTCGCGGTGAATACGTTCCCGGGCCTTGTACACACCGCCCGTCACACCATGGGAGTGGGTTGCACCAGAAGTAGCTAGTCTAACCTTCGGGAGGACGGTTACCACGGTGTGATTCATGACTGGGGTGAAGTCGTAACAAGGTAGCCGTAGGGGAACCTGCGGCTGGATCACCTCCTTAATCGA\n",
    "  genus Pseudomonas\n",
    "    \n",
    "# Thus, I'd say this species is of genus Pseudomonas"
   ]
  },
  {
   "cell_type": "code",
   "execution_count": null,
   "metadata": {},
   "outputs": [],
   "source": []
  },
  {
   "cell_type": "markdown",
   "metadata": {},
   "source": [
    "# Mini report about Pseudomonas aeruginosa\n",
    "\n",
    "Please\tsummarize\tsome\tof\tthe\tinformation\tobtained\tin\tyour\tannotation,\tplacing\tit\tin\tthe\t\n",
    "context\tof\tany\tpapers\tyou\thave\tfound\tand\tread\tabout\trelated\ttaxa.\tUse no\tmore than\ttwo\t\n",
    "pages of\ttext,\tciting\tno\tmore\tthan\ttwo\treferences.\t\n",
    "\n",
    "Question to answer: Horizontal\tgene\ttransfer\tis\tcommon\tamong\tbacteria.\tIs\tthere\tany\tevidence\tfor\tHGT\tin\tyour genome?\n",
    "--\n",
    "Yes! There is evidence of a specifc HGT of a 16s methylase gene transfer from E. Coli to Pseudomonas aeruginosa. According to Yokoyama et al., they detected the transfer of this gene (which grants resistance to an aminoglycoside) when they combined samples of nonresistant P aeruginosa and resistant E Coli. This is likely a survival adaptation to human-developed antibioitcs. However, the rate and conditions at which this horizontal gene transfer occurs is less known.\n",
    "\n",
    "However, using information obtained from RAST, I can see that there is very little nucleotide similarity between this bacterial species and E. Coli, implying that there not much of the nucleotide diversity of P. aeruginosa can be attributed to horizontal gene transfer with E. Coli. This is in contrast to other strains, like N. gnoherrea, which constantly undergoes homologous recombination and as such, traces of other organisms DNA can often be detected at a non-zero level.\n",
    "\n",
    "\n",
    "https://doi.org/10.1016/S0140-6736(03)14959-8 <=>\n",
    "https://www.sciencedirect.com/science/article/pii/S0140673603149598\n"
   ]
  }
 ],
 "metadata": {
  "kernelspec": {
   "display_name": "Python 3",
   "language": "python",
   "name": "python3"
  },
  "language_info": {
   "codemirror_mode": {
    "name": "ipython",
    "version": 3
   },
   "file_extension": ".py",
   "mimetype": "text/x-python",
   "name": "python",
   "nbconvert_exporter": "python",
   "pygments_lexer": "ipython3",
   "version": "3.7.3"
  }
 },
 "nbformat": 4,
 "nbformat_minor": 2
}
