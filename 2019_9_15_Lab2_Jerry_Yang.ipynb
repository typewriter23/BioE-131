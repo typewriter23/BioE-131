{
 "cells": [
  {
   "cell_type": "code",
   "execution_count": 54,
   "metadata": {},
   "outputs": [],
   "source": [
    "from Bio.Seq import Seq\n",
    "from Bio.SeqRecord import SeqRecord\n",
    "from Bio.Alphabet import generic_protein\n",
    "from Bio import SeqIO\n",
    "from Bio import Phylo\n",
    "import numpy as np\n",
    "import matplotlib.pyplot as plt\n",
    "import time\n",
    "\n",
    "seqs = {}\n",
    "for seq_rec in SeqIO.parse(\"seqs.fa\", \"fasta\"):   \n",
    "    seqs[seq_rec.id] = seq_rec\n",
    "# Now we have a list of seqIO Objects\n",
    "\n",
    "# print(seqs)"
   ]
  },
  {
   "cell_type": "code",
   "execution_count": null,
   "metadata": {},
   "outputs": [],
   "source": []
  },
  {
   "cell_type": "code",
   "execution_count": 2,
   "metadata": {},
   "outputs": [
    {
     "name": "stdout",
     "output_type": "stream",
     "text": [
      "\n",
      "MUSCLE v3.8.31 by Robert C. Edgar\n",
      "\n",
      "http://www.drive5.com/muscle\n",
      "This software is donated to the public domain.\n",
      "Please cite: Edgar, R.C. Nucleic Acids Res 32(5), 1792-97.\n",
      "\n",
      "seqs 48 seqs, max length 2217, avg  length 2209\n",
      "00:00:00     11 MB(1%)  Iter   1  100.00%  K-mer dist pass 1\n",
      "00:00:00     11 MB(1%)  Iter   1  100.00%  K-mer dist pass 2\n",
      "00:00:03     83 MB(5%)  Iter   1  100.00%  Align node       \n",
      "00:00:03     83 MB(5%)  Iter   1  100.00%  Root alignment\n",
      "00:00:05     83 MB(5%)  Iter   2  100.00%  Refine tree   \n",
      "00:00:05     83 MB(5%)  Iter   2  100.00%  Root alignment\n",
      "00:00:05     83 MB(5%)  Iter   2  100.00%  Root alignment\n",
      "^C:00:07     83 MB(5%)  Iter   3   35.48%  Refine biparts\n"
     ]
    }
   ],
   "source": [
    "!muscle -in seqs.fa -out 2019_9_15_aligned_seqs.fa"
   ]
  },
  {
   "cell_type": "code",
   "execution_count": 3,
   "metadata": {},
   "outputs": [
    {
     "name": "stdout",
     "output_type": "stream",
     "text": [
      "19_9_11 BioE 131 Lab 1.ipynb\n",
      "2019_9_15_BLAST_search.asn\n",
      "2019_9_15_Lab2_Jerry_Yang.ipynb\n",
      "2019_9_15_aligned_seqs.fa\n",
      "2019_9_15_representativeSample.fasta\n",
      "LICENSE\n",
      "README.md\n",
      "seqs.fa\n",
      "tree.nwk\n",
      "\u001b[K\u001b[7m(END)\u001b[m\u001b[K"
     ]
    }
   ],
   "source": [
    "!ls |less"
   ]
  },
  {
   "cell_type": "code",
   "execution_count": 4,
   "metadata": {},
   "outputs": [
    {
     "name": "stdout",
     "output_type": "stream",
     "text": [
      "FastTree Version 2.1.11 Double precision (No SSE3)\n",
      "Alignment: standard input\n",
      "Nucleotide distances: Jukes-Cantor Joins: balanced Support: SH-like 1000\n",
      "Search: Normal +NNI +SPR (2 rounds range 10) +ML-NNI opt-each=1\n",
      "TopHits: 1.00*sqrtN close=default refresh=0.80\n",
      "ML Model: Jukes-Cantor, CAT approximation with 20 rate categories\n",
      "Initial topology in 0.03 seconds\n",
      "Refining topology: 22 rounds ME-NNIs, 2 rounds ME-SPRs, 11 rounds ML-NNIs\n",
      "Total branch-length 0.954 after 0.45 sec2, 1 of 46 splits   \n",
      "ML-NNI round 1: LogLk = -15605.734 NNIs 8 max delta 16.63 Time 0.71\n",
      "Switched to using 20 rate categories (CAT approximation)1 of 20   \n",
      "Rate categories were divided by 0.741 so that average rate = 1.0\n",
      "CAT-based log-likelihoods may not be comparable across runs\n",
      "Use -gamma for approximate but comparable Gamma(20) log-likelihoods\n",
      "ML-NNI round 2: LogLk = -14232.579 NNIs 0 max delta 0.00 Time 0.86\n",
      "Turning off heuristics for final round of ML NNIs (converged)\n",
      "ML-NNI round 3: LogLk = -14232.478 NNIs 0 max delta 0.00 Time 1.04 (final)\n",
      "Optimize all lengths: LogLk = -14232.478 Time 1.09\n",
      "Total time: 1.41 seconds Unique: 48/48 Bad splits: 0/45\n"
     ]
    }
   ],
   "source": [
    "!fasttree -nt < 2019_9_15_aligned_seqs.fa > tree.nwk "
   ]
  },
  {
   "cell_type": "code",
   "execution_count": 5,
   "metadata": {},
   "outputs": [
    {
     "name": "stdout",
     "output_type": "stream",
     "text": [
      "19_9_11 BioE 131 Lab 1.ipynb\t      LICENSE\r\n",
      "2019_9_15_BLAST_search.asn\t      README.md\r\n",
      "2019_9_15_Lab2_Jerry_Yang.ipynb       seqs.fa\r\n",
      "2019_9_15_aligned_seqs.fa\t      tree.nwk\r\n",
      "2019_9_15_representativeSample.fasta\r\n"
     ]
    }
   ],
   "source": [
    "!ls"
   ]
  },
  {
   "cell_type": "code",
   "execution_count": 6,
   "metadata": {},
   "outputs": [
    {
     "name": "stdout",
     "output_type": "stream",
     "text": [
      "((((rh.61:0.002260478,(rh.58:0.007392370,(((pi.2:0.000922101,(pi.3:0.002752320,pi.1:0.002291146)0.839:0.000908506)1.000:0.083046743,(((rh.10:0.000000005,(bb.1:0.002263659,bb.2:0.001357175)0.965:0.001808039)0.994:0.006802447,(hu.17:0.008127909,hu.6:0.001897441)0.938:0.004067558)1.000:0.030435320,(rh.2:0.028571636,(rh.40:0.013359570,(hu.67:0.001361312,(hu.37:0.000903293,((hu.40:0.000902846,hu.66:0.002259039)0.959:0.000000005,((hu.41:0.001809725,rh.38:0.001809563)0.760:0.000449605,hu.42:0.001354935)0.904:0.000000005)0.912:0.000000005)0.776:0.000445654)0.983:0.005081033)1.000:0.036653913)0.960:0.014936723)0.678:0.010489709)0.518:0.010456104,(((((cy.3:0.002763999,((cy.6:0.002763228,cy.4:0.003225292)0.994:0.000000005,(cy.5:0.002301811,rh.13:0.000459635)0.793:0.000000005)0.000:0.000000006)1.000:0.059977893,(rh.35:0.001377398,(rh.36:0.000924451,rh.37:0.001377487)0.826:0.000000005)1.000:0.032187497)1.000:0.038179383,(cy.2:0.027736913,(rh.54:0.011404269,(rh.55:0.010487788,(rh.48:0.000449307,rh.62:0.002723164)0.951:0.004197786)0.999:0.025111140)0.950:0.018295016)1.000:0.036919137)0.444:0.015752950,(hu.43:0.008850276,(hu.48:0.004358408,(hu.44:0.002049215,hu.46:0.005233629)1.000:0.025713930)0.999:0.010775713)1.000:0.124150892)0.999:0.033057626,((hu.14:0.007744906,(hu.31:0.001364273,hu.32:0.001373403)1.000:0.014135313)1.000:0.178247095,rh.43:0.060146312)0.889:0.021985470)0.895:0.015945070)1.000:0.031427893)0.311:0.001726521)0.913:0.000000005,rh.64:0.000902877)0.927:0.000000005,(((rh.57:0.003575718,rh.51:0.002647316)0.764:0.000570874,rh.49:0.003167973)0.397:0.000000005,rh.53:0.001354044)0.751:0.000000005)0.886:0.000000006,rh.50:0.001354279,(rh.52:0.001806706,hu.39:0.004075260)0.273:0.000000005);\n",
      "\u001b[K\u001b[7m(END)\u001b[m\u001b[K\u001b[m\u001b[K\u0007"
     ]
    }
   ],
   "source": [
    "!less tree.nwk"
   ]
  },
  {
   "cell_type": "code",
   "execution_count": 7,
   "metadata": {},
   "outputs": [
    {
     "data": {
      "text/plain": [
       "<Figure size 640x480 with 1 Axes>"
      ]
     },
     "metadata": {},
     "output_type": "display_data"
    }
   ],
   "source": [
    "# Now, read in the tree and visualize it:\n",
    "\n",
    "tree = Phylo.read('tree.nwk', 'newick')\n",
    "# print(tree)\n",
    "Phylo.draw(tree)\n",
    "#next(tree)\n",
    "# next(tree)"
   ]
  },
  {
   "cell_type": "code",
   "execution_count": 8,
   "metadata": {},
   "outputs": [
    {
     "name": "stdout",
     "output_type": "stream",
     "text": [
      " , rh.61\n",
      " |\n",
      " |_ rh.58\n",
      " |\n",
      " |                               , pi.2\n",
      " |           ____________________|\n",
      " |          |                    , pi.3\n",
      " |          |                    |\n",
      " |          |                    | pi.1\n",
      " |          |\n",
      " |          |           , rh.10\n",
      " |        __|          _|\n",
      " |       |  |         | , bb.1\n",
      " |       |  |         | |\n",
      " |       |  |  _______| | bb.2\n",
      " |       |  | |       |\n",
      " |       |  | |       | _ hu.17\n",
      " |       |  | |       ||\n",
      " |       |  |_|        | hu.6\n",
      " |       |    |\n",
      " |       |    |    _______ rh.2\n",
      " |       |    |   |\n",
      " |       |    |___|          __ rh.40\n",
      " |       |        |         |\n",
      " |       |        |_________|, hu.67\n",
      " |       |                  ||\n",
      " |       |                  |, hu.37\n",
      " |       |                   |\n",
      " |       |                   , hu.40\n",
      " |       |                   |\n",
      " |       |                   | hu.66\n",
      " |       |                   |\n",
      " |       |                   , hu.41\n",
      " |       |                   |\n",
      " |       |                   | rh.38\n",
      " |       |                   |\n",
      " |       |                   | hu.42\n",
      " |       |\n",
      " |_______|                                         , cy.3\n",
      " |       |                                         |\n",
      " |       |                          _______________, cy.6\n",
      " |       |                         |               |\n",
      " |       |                         |               | cy.4\n",
      " |       |                         |               |\n",
      " |       |                 ________|               , cy.5\n",
      " |       |                |        |               |\n",
      " |       |                |        |               | rh.13\n",
      " |       |                |        |\n",
      " |       |                |        |        , rh.35\n",
      " |       |             ___|        |________|\n",
      " |       |            |   |                 , rh.36\n",
      " |       |            |   |                 |\n",
      " |       |            |   |                 | rh.37\n",
      " |       |            |   |\n",
      " |       |            |   |         ______ cy.2\n",
      " |       |            |   |________|\n",
      " |       |            |            |     __ rh.54\n",
      " |       |    ________|            |____|\n",
      " |       |   |        |                 |      __ rh.55\n",
      " |       |   |        |                 |_____|\n",
      " |       |   |        |                       |, rh.48\n",
      " |       |   |        |                       ||\n",
      " |       |   |        |                        | rh.62\n",
      " |       |   |        |\n",
      " |       |   |        |                               __ hu.43\n",
      " |       |   |        |______________________________|\n",
      " |       |___|                                       |  , hu.48\n",
      " |           |                                       |__|\n",
      " |           |                                          |      , hu.44\n",
      " |           |                                          |______|\n",
      " |           |                                                 | hu.46\n",
      " |           |\n",
      " |           |                                                    _ hu.14\n",
      " |           |      _____________________________________________|\n",
      " |           |     |                                             |  , hu.31\n",
      " |           |_____|                                             |__|\n",
      " |                 |                                                | hu.32\n",
      " |                 |\n",
      " |                 |______________ rh.43\n",
      "_|\n",
      " | rh.64\n",
      " |\n",
      " , rh.57\n",
      " |\n",
      " | rh.51\n",
      " |\n",
      " | rh.49\n",
      " |\n",
      " | rh.53\n",
      " |\n",
      " | rh.50\n",
      " |\n",
      " , rh.52\n",
      " |\n",
      " | hu.39\n",
      "\n"
     ]
    }
   ],
   "source": [
    "# Visualizing using ascii:\n",
    "Phylo.draw_ascii(tree)"
   ]
  },
  {
   "cell_type": "code",
   "execution_count": 9,
   "metadata": {},
   "outputs": [],
   "source": [
    "clusters = []"
   ]
  },
  {
   "cell_type": "code",
   "execution_count": 10,
   "metadata": {},
   "outputs": [],
   "source": [
    "# I want to systematically find all clusters:\n",
    "    # Going to use Newick package, then import the tree, then\n",
    "        # find a list of all leafs s.t. its branch length is below a threshold\n",
    "        \n",
    "# !pip install newick\n",
    "# NVM, I'm not allowed to download here"
   ]
  },
  {
   "cell_type": "code",
   "execution_count": 11,
   "metadata": {},
   "outputs": [],
   "source": [
    "rep_sample = [\"pi.1\", \"rh.10\", \"hu.67\", \"cy.6\", \"rh.37\", \"rh.48\", \"hu.48\", \"hu.31\", \"rh.49\"]\n",
    "\n",
    "rep_sequences = [str(seqs.get(sample_i).seq) for sample_i in rep_sample]\n",
    "\n",
    "# print(rep_sequences)\n",
    "\n",
    "rep_records = [seqs.get(sample_i) for sample_i in rep_sample]\n"
   ]
  },
  {
   "cell_type": "code",
   "execution_count": 12,
   "metadata": {},
   "outputs": [],
   "source": [
    "# Writing these sequences to a file\n",
    "with open(\"2019_9_15_representativeSample.fasta\", \"w\") as output_handle:\n",
    "    SeqIO.write(rep_records, output_handle, \"fasta\")"
   ]
  },
  {
   "cell_type": "code",
   "execution_count": 13,
   "metadata": {},
   "outputs": [
    {
     "name": "stdout",
     "output_type": "stream",
     "text": [
      "19_9_11 BioE 131 Lab 1.ipynb\t      LICENSE\r\n",
      "2019_9_15_BLAST_search.asn\t      README.md\r\n",
      "2019_9_15_Lab2_Jerry_Yang.ipynb       seqs.fa\r\n",
      "2019_9_15_aligned_seqs.fa\t      tree.nwk\r\n",
      "2019_9_15_representativeSample.fasta\r\n"
     ]
    }
   ],
   "source": [
    "! ls "
   ]
  },
  {
   "cell_type": "code",
   "execution_count": 14,
   "metadata": {},
   "outputs": [],
   "source": [
    "# Results: Just the first few hits:\n",
    "# (Full results can be found here: ./2019_9_15_BLAST_search.asn)\n",
    "\n",
    "# pi.1: Adeno-associated virus isolate pi.1 capsid protein VP1 (cap) gene, complete cds\n",
    "# rh.10: Non-human primate Adeno-associated virus isolate AAVrh.10 capsid protein (VP1) gene, complete cds\n",
    "# hu.67: Adeno-associated virus isolate hu.67 capsid protein VP1 (cap) gene, complete cds\n",
    "# cy.6: Non-human primate Adeno-associated virus isolate AAVcy.6 capsid protein (VP1) gene, complete cds\n",
    "# ..."
   ]
  },
  {
   "cell_type": "code",
   "execution_count": 15,
   "metadata": {},
   "outputs": [],
   "source": [
    "# Answers to questions:\n",
    "# What are some ways we can analyze them and figure out what their relationship is? \n",
    "# We can look at similarities in their sequence (since DNA is a linear molecule).\n",
    "\n",
    "# What are some properties of DNA sequences, and how can we compare them to each other? \n",
    "# They are linear sequences, and they are inherited with reasonable fidelity\n",
    "    # and some error. As such, we can predict the relationship between sequences\n",
    "    # and use it to compare the relationship of organisms. We can compare them\n",
    "    # using string comparison algorithms.\n",
    "    \n",
    "\n",
    "# Finally, head into iPython to load and visualize your tree using Bio.Phylo. Are there any obvious clusters of sequences? \n",
    "# Yes (see ascii art)\n",
    "# Are there any pairs or groups of sequences that seem very closely related? \n",
    "# Yes, you can see some regions that look like multi-forcations instead of boforcations\n",
    "\n",
    "# Any that are any sequences that seem far more distantly related than the others? \n",
    "# Yes, namely rh.61 and the {rh.57, ...} cluster appear to be outgroups\n",
    "\n",
    "# Answer to question: Why no trust BLAST \n",
    "\n",
    "# What are some of the most common matches for each cluster? Write them down in your lab notebook. \n",
    "# (See above)\n",
    "\n",
    "# Do they all match the same gene? Are there any that definitely do not match the others? \n",
    "# They all appear to match the protein VP1 of the Adeno-Associated Virus\n",
    "\n",
    "# Why might we not trust the annotations for sequences that come up in our BLAST? \n",
    "# BLAST can only search against known sequences. \n",
    "# Depending on the level of match, it may be giving us inaccurate results. For example,an 80% match to \n",
    "# a different organism may not be enough evidence to conclude that our sequence is from that organism"
   ]
  },
  {
   "cell_type": "code",
   "execution_count": null,
   "metadata": {},
   "outputs": [],
   "source": []
  },
  {
   "cell_type": "markdown",
   "metadata": {},
   "source": [
    "# *Finding the GC Content for all of them sequences*"
   ]
  },
  {
   "cell_type": "code",
   "execution_count": 16,
   "metadata": {},
   "outputs": [],
   "source": [
    "rep_seq_dict = {seqs.get(sample_i).id:str(seqs.get(sample_i).seq) for sample_i in rep_sample}\n",
    "# Creates a dictionary mapping each id to each sequence for the representative subset\n",
    "# rep_seq_dict\n",
    "\n",
    "full_seq_dict = {seqs.get(sample_i).id:str(seqs.get(sample_i).seq) for sample_i in [record.id for record in seqs.values()]}\n",
    "# print(full_seq_dict)\n",
    "# God this is ugly. Forgive me father for I have sinned"
   ]
  },
  {
   "cell_type": "code",
   "execution_count": 17,
   "metadata": {},
   "outputs": [],
   "source": [
    "rep_seq_GC = {seqs.get(sample_i).id:str(seqs.get(sample_i).seq) for sample_i in rep_seq_dict}"
   ]
  },
  {
   "cell_type": "code",
   "execution_count": 18,
   "metadata": {},
   "outputs": [],
   "source": [
    "def getSequence(id, refDict):\n",
    "    \"\"\" Function to get the sequence given an id\"\"\"\n",
    "    return str(refDict.get(id))  "
   ]
  },
  {
   "cell_type": "code",
   "execution_count": 19,
   "metadata": {},
   "outputs": [],
   "source": [
    "clusters = {    \"c1\": [\"pi.2\", \"pi.3\", \"pi.1\"], \n",
    "                \"c2\": [\"rh.40\", \"hu.37\", \"hu.66\", \"hu.40\", \"hu.41\", \"rh.38\", \"hu.42\"],\n",
    "                \"c3\": [\"cy.3\", \"cy.6\", \"cy.4\", \"cy.5\", \"rh.13\"],\n",
    "                \"c4\": [\"rh.35\", \"rh.36\", \"rh.37\"]\n",
    "           }"
   ]
  },
  {
   "cell_type": "code",
   "execution_count": 62,
   "metadata": {},
   "outputs": [
    {
     "data": {
      "image/png": "[encoded data removed]",
      "text/plain": [
       "<Figure size 432x288 with 1 Axes>"
      ]
     },
     "metadata": {
      "needs_background": "light"
     },
     "output_type": "display_data"
    },
    {
     "data": {
      "image/png": "[encoded data removed]",
      "text/plain": [
       "<Figure size 432x288 with 1 Axes>"
      ]
     },
     "metadata": {
      "needs_background": "light"
     },
     "output_type": "display_data"
    },
    {
     "data": {
      "image/png": "[encoded data removed]",
      "text/plain": [
       "<Figure size 432x288 with 1 Axes>"
      ]
     },
     "metadata": {
      "needs_background": "light"
     },
     "output_type": "display_data"
    },
    {
     "data": {
      "image/png": "[encoded data removed]",
      "text/plain": [
       "<Figure size 432x288 with 1 Axes>"
      ]
     },
     "metadata": {
      "needs_background": "light"
     },
     "output_type": "display_data"
    }
   ],
   "source": [
    "for cName in clusters.keys():\n",
    "    ids = clusters.get(cName)\n",
    "    sequences = {}\n",
    "    # print(ids)\n",
    "    for i in ids:\n",
    "        sequences[i] = getSequence(i, full_seq_dict)\n",
    "    # print(sequences)\n",
    "    zipped_sites = zip(*sequences.values())\n",
    "    # print(list(zipped_sites))\n",
    "    \n",
    "    gc_per_site = [calc_GC(site) for site in zipped_sites]\n",
    "    ind = np.arange(len(gc_per_site)) \n",
    "    plt.bar(x = ind, height = gc_per_site)\n",
    "    plt.xlabel(\"Position (bp)\")\n",
    "    plt.ylabel(\"GC %\")\n",
    "    plt.show()\n",
    "    # time.sleep(1)\n",
    "    # plt.bar()\n",
    "    # print(gc_per_site)\n",
    "    # print((cName, ids))"
   ]
  },
  {
   "cell_type": "code",
   "execution_count": null,
   "metadata": {},
   "outputs": [
    {
     "data": {
      "image/png": "[encoded data removed]",
      "text/plain": [
       "<Figure size 432x288 with 1 Axes>"
      ]
     },
     "metadata": {
      "needs_background": "light"
     },
     "output_type": "display_data"
    },
    {
     "data": {
      "image/png": "[encoded data removed]",
      "text/plain": [
       "<Figure size 432x288 with 1 Axes>"
      ]
     },
     "metadata": {
      "needs_background": "light"
     },
     "output_type": "display_data"
    },
    {
     "data": {
      "image/png": "[encoded data removed]",
      "text/plain": [
       "<Figure size 432x288 with 1 Axes>"
      ]
     },
     "metadata": {
      "needs_background": "light"
     },
     "output_type": "display_data"
    }
   ],
   "source": [
    "for cName in clusters.keys():\n",
    "   \n",
    "    ids = clusters.get(cName)\n",
    "    sequences = {}\n",
    "    # print(ids)\n",
    "    for i in ids:\n",
    "        sequences[i] = getSequence(i, full_seq_dict)\n",
    "    # print(sequences)\n",
    "    # zipped_sites = zip(*sequences.values())\n",
    "    # print(list(zipped_sites))\n",
    "    \n",
    "    lens = [len(s) for s in sequences.values()]\n",
    "    # ind = np.arange(len(gc_per_site)) \n",
    "    plt.boxplot(lens)\n",
    "    \n",
    "    plt.show()"
   ]
  },
  {
   "cell_type": "code",
   "execution_count": 21,
   "metadata": {},
   "outputs": [],
   "source": [
    "# seqs"
   ]
  },
  {
   "cell_type": "code",
   "execution_count": 22,
   "metadata": {},
   "outputs": [],
   "source": [
    "def calc_GC(sites):\n",
    "    gc_count = 0\n",
    "    total = 0\n",
    "    for letter in sites:\n",
    "        if (letter == 'g' or letter == 'c'):\n",
    "            gc_count += 1\n",
    "        total += 1\n",
    "    return gc_count/total\n",
    "        \n"
   ]
  }
 ],
 "metadata": {
  "kernelspec": {
   "display_name": "Python 3",
   "language": "python",
   "name": "python3"
  },
  "language_info": {
   "codemirror_mode": {
    "name": "ipython",
    "version": 3
   },
   "file_extension": ".py",
   "mimetype": "text/x-python",
   "name": "python",
   "nbconvert_exporter": "python",
   "pygments_lexer": "ipython3",
   "version": "3.7.3"
  }
 },
 "nbformat": 4,
 "nbformat_minor": 2
}
