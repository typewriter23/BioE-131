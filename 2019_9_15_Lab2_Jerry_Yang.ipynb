{
 "cells": [
  {
   "cell_type": "code",
   "execution_count": 41,
   "metadata": {},
   "outputs": [
    {
     "name": "stdout",
     "output_type": "stream",
     "text": [
      "{'bb.1': SeqRecord(seq=Seq('atggctgccgatggttatcttccagattggctcgaggacaacctctctgagggc...taa', SingleLetterAlphabet()), id='bb.1', name='bb.1', description='bb.1', dbxrefs=[]), 'bb.2': SeqRecord(seq=Seq('atggctgccgatggttatcttccagattggctcgaggacaacctctctgagggc...taa', SingleLetterAlphabet()), id='bb.2', name='bb.2', description='bb.2', dbxrefs=[]), 'cy.2': SeqRecord(seq=Seq('atggctgccgatggttatcttccagattggctcgaggacaacctctctgagggc...taa', SingleLetterAlphabet()), id='cy.2', name='cy.2', description='cy.2', dbxrefs=[]), 'cy.3': SeqRecord(seq=Seq('atggctgccgatggttatcttccagattggctcgaggacaacctctctgagggc...taa', SingleLetterAlphabet()), id='cy.3', name='cy.3', description='cy.3', dbxrefs=[]), 'cy.4': SeqRecord(seq=Seq('atggctgccgatggttatcttccagattggctcgaggacaacctctctgagggc...taa', SingleLetterAlphabet()), id='cy.4', name='cy.4', description='cy.4', dbxrefs=[]), 'cy.5': SeqRecord(seq=Seq('atggctgccgatggttatcttccagattggctcgagggcaacctctctgagggc...taa', SingleLetterAlphabet()), id='cy.5', name='cy.5', description='cy.5', dbxrefs=[]), 'cy.6': SeqRecord(seq=Seq('atggctgccgatggttatcttccagattggctcgaggacaacctctctgagggc...taa', SingleLetterAlphabet()), id='cy.6', name='cy.6', description='cy.6', dbxrefs=[]), 'hu.14': SeqRecord(seq=Seq('atggctgccgatggttatcttccagattggctcgaggacaaccttagtgaagga...taa', SingleLetterAlphabet()), id='hu.14', name='hu.14', description='hu.14', dbxrefs=[]), 'hu.17': SeqRecord(seq=Seq('atggctgccgatggttatcttccagattggctcgaggacaacctctctgagggc...taa', SingleLetterAlphabet()), id='hu.17', name='hu.17', description='hu.17', dbxrefs=[]), 'hu.31': SeqRecord(seq=Seq('atggctgccgatggttatcttccagattggctcgaggacactctctctgaagga...taa', SingleLetterAlphabet()), id='hu.31', name='hu.31', description='hu.31', dbxrefs=[]), 'hu.32': SeqRecord(seq=Seq('atggctgccgatggttatcttccagattggctcgaggacactctctctgaagga...taa', SingleLetterAlphabet()), id='hu.32', name='hu.32', description='hu.32', dbxrefs=[]), 'hu.37': SeqRecord(seq=Seq('atggctgctgacggttatcttccagattggctcgaggacaacctctctgagggc...taa', SingleLetterAlphabet()), id='hu.37', name='hu.37', description='hu.37', dbxrefs=[]), 'hu.39': SeqRecord(seq=Seq('atggctgccgatggttatcttccagattggctcgaggacaacctctctgagggc...taa', SingleLetterAlphabet()), id='hu.39', name='hu.39', description='hu.39', dbxrefs=[]), 'hu.40': SeqRecord(seq=Seq('atggctgctgacggttatcttccagattggctcgaggacaacctctctgagggc...taa', SingleLetterAlphabet()), id='hu.40', name='hu.40', description='hu.40', dbxrefs=[]), 'hu.41': SeqRecord(seq=Seq('atggctgctgacggttatcttccagattggctcgaggacaacctctctgagggc...taa', SingleLetterAlphabet()), id='hu.41', name='hu.41', description='hu.41', dbxrefs=[]), 'hu.42': SeqRecord(seq=Seq('atggctgctgacggttatcttccagattggctcgaggacaacctctctgagggc...taa', SingleLetterAlphabet()), id='hu.42', name='hu.42', description='hu.42', dbxrefs=[]), 'hu.43': SeqRecord(seq=Seq('atggctgctgacggttatcttccagattggctcgaggacaacctctctgagggc...taa', SingleLetterAlphabet()), id='hu.43', name='hu.43', description='hu.43', dbxrefs=[]), 'hu.44': SeqRecord(seq=Seq('atggctgccgatggttatcttccagattggctcgaggacactctctctgaagga...taa', SingleLetterAlphabet()), id='hu.44', name='hu.44', description='hu.44', dbxrefs=[]), 'hu.46': SeqRecord(seq=Seq('atggctgccgacggttatcttccagattggctcgaggacactctctctgaagga...taa', SingleLetterAlphabet()), id='hu.46', name='hu.46', description='hu.46', dbxrefs=[]), 'hu.48': SeqRecord(seq=Seq('atggctgccgatggttatcttccagattggctcgaggacaacctctctgagggc...taa', SingleLetterAlphabet()), id='hu.48', name='hu.48', description='hu.48', dbxrefs=[]), 'hu.6': SeqRecord(seq=Seq('atggctgccgatggttatcttccagattggctcgaggacaacctctctgagggc...taa', SingleLetterAlphabet()), id='hu.6', name='hu.6', description='hu.6', dbxrefs=[]), 'hu.66': SeqRecord(seq=Seq('atggctgctgacggttatcttccagattggctcgaggacaacctctctgagggc...taa', SingleLetterAlphabet()), id='hu.66', name='hu.66', description='hu.66', dbxrefs=[]), 'hu.67': SeqRecord(seq=Seq('atggctgctgacggttatcttccagattggctcgaggacaacctctctgagggc...taa', SingleLetterAlphabet()), id='hu.67', name='hu.67', description='hu.67', dbxrefs=[]), 'pi.1': SeqRecord(seq=Seq('atggctgctgacggttatcttccagattggctcgaggacaacctctctgagggc...taa', SingleLetterAlphabet()), id='pi.1', name='pi.1', description='pi.1', dbxrefs=[]), 'pi.2': SeqRecord(seq=Seq('atggctgctgacggttatcttccagattggctcgaggacaacctctctgagggc...taa', SingleLetterAlphabet()), id='pi.2', name='pi.2', description='pi.2', dbxrefs=[]), 'pi.3': SeqRecord(seq=Seq('atggctgctgacggttatcttccagattggctcgaggacaacctctctgagggc...taa', SingleLetterAlphabet()), id='pi.3', name='pi.3', description='pi.3', dbxrefs=[]), 'rh.10': SeqRecord(seq=Seq('atggctgccgatggttatcttccagattggctcgaggacaacctctctgagggc...taa', SingleLetterAlphabet()), id='rh.10', name='rh.10', description='rh.10', dbxrefs=[]), 'rh.13': SeqRecord(seq=Seq('atggctgccgatggttatcttccagattggctcgaggacaacctctctgagggc...taa', SingleLetterAlphabet()), id='rh.13', name='rh.13', description='rh.13', dbxrefs=[]), 'rh.2': SeqRecord(seq=Seq('atggctgccgatggttatcttccagattggcttgaggacaacctctctgagggc...taa', SingleLetterAlphabet()), id='rh.2', name='rh.2', description='rh.2', dbxrefs=[]), 'rh.35': SeqRecord(seq=Seq('atggctgccgatggttatcttccagattggctcgaggacaacctctctgagggc...taa', SingleLetterAlphabet()), id='rh.35', name='rh.35', description='rh.35', dbxrefs=[]), 'rh.36': SeqRecord(seq=Seq('atggctgccgatggttatcttccagattggctcgaggacaacctctctgagggc...taa', SingleLetterAlphabet()), id='rh.36', name='rh.36', description='rh.36', dbxrefs=[]), 'rh.37': SeqRecord(seq=Seq('atggctgccgatggttatcttccagattggctcgaggacaacctctctgagggc...taa', SingleLetterAlphabet()), id='rh.37', name='rh.37', description='rh.37', dbxrefs=[]), 'rh.38': SeqRecord(seq=Seq('atggctgctgacggttatcttccagattggctcgaggacaacctctctgagggc...taa', SingleLetterAlphabet()), id='rh.38', name='rh.38', description='rh.38', dbxrefs=[]), 'rh.40': SeqRecord(seq=Seq('atggctgctgacggttatcttccagattggctcgaggacaacctctctgagggc...taa', SingleLetterAlphabet()), id='rh.40', name='rh.40', description='rh.40', dbxrefs=[]), 'rh.43': SeqRecord(seq=Seq('atggctgccgatggttatcttccagattggctcgaggacaacctctctgagggc...taa', SingleLetterAlphabet()), id='rh.43', name='rh.43', description='rh.43', dbxrefs=[]), 'rh.48': SeqRecord(seq=Seq('atggctgctgacggttatcttccagattggctcgaggacaacctctctgagggc...taa', SingleLetterAlphabet()), id='rh.48', name='rh.48', description='rh.48', dbxrefs=[]), 'rh.49': SeqRecord(seq=Seq('atggctgccgatggttatcttccagattggctcgaggacaacctctctgagggc...taa', SingleLetterAlphabet()), id='rh.49', name='rh.49', description='rh.49', dbxrefs=[]), 'rh.50': SeqRecord(seq=Seq('atggctgccgatggttatcttccagattggctcgaggacaacctctctgagggc...taa', SingleLetterAlphabet()), id='rh.50', name='rh.50', description='rh.50', dbxrefs=[]), 'rh.51': SeqRecord(seq=Seq('atggttgccgatggttatcttccagattggctcgaggacaacctctctgagggc...taa', SingleLetterAlphabet()), id='rh.51', name='rh.51', description='rh.51', dbxrefs=[]), 'rh.52': SeqRecord(seq=Seq('atggctgccgatggttatcttccagattggctcgaggacaacctctctgagggc...taa', SingleLetterAlphabet()), id='rh.52', name='rh.52', description='rh.52', dbxrefs=[]), 'rh.53': SeqRecord(seq=Seq('atggctgccgatggttatcttccagattggctcgaggacaacctctctgagggc...taa', SingleLetterAlphabet()), id='rh.53', name='rh.53', description='rh.53', dbxrefs=[]), 'rh.54': SeqRecord(seq=Seq('atggctgctgacggttatcttccagattggctcgaggacaacctctctgagggc...taa', SingleLetterAlphabet()), id='rh.54', name='rh.54', description='rh.54', dbxrefs=[]), 'rh.55': SeqRecord(seq=Seq('atggctgccgatggttatcttccagattggctcgaggacaacctctctgagggc...taa', SingleLetterAlphabet()), id='rh.55', name='rh.55', description='rh.55', dbxrefs=[]), 'rh.57': SeqRecord(seq=Seq('atggctgccgatggttatcttccagattggctcgaggacaacctctctgagggc...taa', SingleLetterAlphabet()), id='rh.57', name='rh.57', description='rh.57', dbxrefs=[]), 'rh.58': SeqRecord(seq=Seq('atggctgctgacggttatcttccagattggctcgaggacaacctctctgagggc...taa', SingleLetterAlphabet()), id='rh.58', name='rh.58', description='rh.58', dbxrefs=[]), 'rh.61': SeqRecord(seq=Seq('atggctgccgatggttatcttccagattggctcgaggacaacctctctgagggc...taa', SingleLetterAlphabet()), id='rh.61', name='rh.61', description='rh.61', dbxrefs=[]), 'rh.62': SeqRecord(seq=Seq('atggctgctgacggttatcttccagattggctcgaggacaacctctctgagggc...taa', SingleLetterAlphabet()), id='rh.62', name='rh.62', description='rh.62', dbxrefs=[]), 'rh.64': SeqRecord(seq=Seq('atggctgccgatggttatcttccagattggctcgaggacaacctctctgagggc...taa', SingleLetterAlphabet()), id='rh.64', name='rh.64', description='rh.64', dbxrefs=[])}\n"
     ]
    }
   ],
   "source": [
    "from Bio.Seq import Seq\n",
    "from Bio.SeqRecord import SeqRecord\n",
    "from Bio.Alphabet import generic_protein\n",
    "from Bio import SeqIO\n",
    "from Bio import Phylo\n",
    "\n",
    "\n",
    "seqs = {}\n",
    "for seq_rec in SeqIO.parse(\"seqs.fa\", \"fasta\"):   \n",
    "    seqs[seq_rec.id] = seq_rec\n",
    "# Now we have a list of seqIO Objects\n",
    "\n",
    "print(seqs)"
   ]
  },
  {
   "cell_type": "code",
   "execution_count": 4,
   "metadata": {},
   "outputs": [
    {
     "name": "stdout",
     "output_type": "stream",
     "text": [
      "abc\r\n"
     ]
    }
   ],
   "source": []
  },
  {
   "cell_type": "code",
   "execution_count": 5,
   "metadata": {},
   "outputs": [
    {
     "name": "stdout",
     "output_type": "stream",
     "text": [
      "\n",
      "MUSCLE v3.8.31 by Robert C. Edgar\n",
      "\n",
      "http://www.drive5.com/muscle\n",
      "This software is donated to the public domain.\n",
      "Please cite: Edgar, R.C. Nucleic Acids Res 32(5), 1792-97.\n",
      "\n",
      "seqs 48 seqs, max length 2217, avg  length 2209\n",
      "00:00:00     11 MB(1%)  Iter   1  100.00%  K-mer dist pass 1\n",
      "00:00:00     11 MB(1%)  Iter   1  100.00%  K-mer dist pass 2\n",
      "00:00:03     83 MB(5%)  Iter   1  100.00%  Align node       \n",
      "00:00:03     83 MB(5%)  Iter   1  100.00%  Root alignment\n",
      "00:00:05     83 MB(5%)  Iter   2  100.00%  Refine tree   \n",
      "00:00:05     83 MB(5%)  Iter   2  100.00%  Root alignment\n",
      "00:00:05     83 MB(5%)  Iter   2  100.00%  Root alignment\n",
      "00:00:12     83 MB(5%)  Iter   3  100.00%  Refine biparts\n",
      "00:00:19     83 MB(5%)  Iter   4  100.00%  Refine biparts\n",
      "00:00:19     83 MB(5%)  Iter   5  100.00%  Refine biparts\n",
      "00:00:19     83 MB(5%)  Iter   5  100.00%  Refine biparts\n"
     ]
    }
   ],
   "source": [
    "!muscle -in seqs.fa -out 2019_9_15_aligned_seqs.fa"
   ]
  },
  {
   "cell_type": "code",
   "execution_count": 6,
   "metadata": {},
   "outputs": [
    {
     "name": "stdout",
     "output_type": "stream",
     "text": [
      "19_9_11 BioE 131 Lab 1.ipynb\n",
      "2019_9_15_aligned_seqs.fa\n",
      "LICENSE\n",
      "README.md\n",
      "Untitled.ipynb\n",
      "seqs.fa\n",
      "\u001b[K\u001b[7m(END)\u001b[m\u001b[K"
     ]
    }
   ],
   "source": [
    "!ls |less"
   ]
  },
  {
   "cell_type": "code",
   "execution_count": 12,
   "metadata": {},
   "outputs": [
    {
     "name": "stdout",
     "output_type": "stream",
     "text": [
      "FastTree Version 2.1.11 Double precision (No SSE3)\n",
      "Alignment: standard input\n",
      "Nucleotide distances: Jukes-Cantor Joins: balanced Support: SH-like 1000\n",
      "Search: Normal +NNI +SPR (2 rounds range 10) +ML-NNI opt-each=1\n",
      "TopHits: 1.00*sqrtN close=default refresh=0.80\n",
      "ML Model: Jukes-Cantor, CAT approximation with 20 rate categories\n",
      "Initial topology in 0.03 seconds\n",
      "Refining topology: 22 rounds ME-NNIs, 2 rounds ME-SPRs, 11 rounds ML-NNIs\n",
      "Total branch-length 0.954 after 0.45 sec2, 1 of 46 splits   \n",
      "ML-NNI round 1: LogLk = -15605.734 NNIs 8 max delta 16.63 Time 0.71\n",
      "Switched to using 20 rate categories (CAT approximation)1 of 20   \n",
      "Rate categories were divided by 0.741 so that average rate = 1.0\n",
      "CAT-based log-likelihoods may not be comparable across runs\n",
      "Use -gamma for approximate but comparable Gamma(20) log-likelihoods\n",
      "ML-NNI round 2: LogLk = -14232.579 NNIs 0 max delta 0.00 Time 0.86\n",
      "Turning off heuristics for final round of ML NNIs (converged)\n",
      "ML-NNI round 3: LogLk = -14232.478 NNIs 0 max delta 0.00 Time 1.04 (final)\n",
      "Optimize all lengths: LogLk = -14232.478 Time 1.09\n",
      "Total time: 1.41 seconds Unique: 48/48 Bad splits: 0/45\n"
     ]
    }
   ],
   "source": [
    "!fasttree -nt < 2019_9_15_aligned_seqs.fa > tree.nwk "
   ]
  },
  {
   "cell_type": "code",
   "execution_count": 13,
   "metadata": {},
   "outputs": [
    {
     "name": "stdout",
     "output_type": "stream",
     "text": [
      "19_9_11 BioE 131 Lab 1.ipynb  LICENSE\t Untitled.ipynb  tree.nwk\r\n",
      "2019_9_15_aligned_seqs.fa     README.md  seqs.fa\r\n"
     ]
    }
   ],
   "source": [
    "!ls"
   ]
  },
  {
   "cell_type": "code",
   "execution_count": 14,
   "metadata": {},
   "outputs": [
    {
     "name": "stdout",
     "output_type": "stream",
     "text": [
      "((((rh.61:0.002260478,(rh.58:0.007392370,(((pi.2:0.000922101,(pi.3:0.002752320,pi.1:0.002291146)0.839:0.000908506)1.000:0.083046743,(((rh.10:0.000000005,(bb.1:0.002263659,bb.2:0.001357175)0.965:0.001808039)0.994:0.006802447,(hu.17:0.008127909,hu.6:0.001897441)0.938:0.004067558)1.000:0.030435320,(rh.2:0.028571636,(rh.40:0.013359570,(hu.67:0.001361312,(hu.37:0.000903293,((hu.40:0.000902846,hu.66:0.002259039)0.959:0.000000005,((hu.41:0.001809725,rh.38:0.001809563)0.760:0.000449605,hu.42:0.001354935)0.904:0.000000005)0.912:0.000000005)0.776:0.000445654)0.983:0.005081033)1.000:0.036653913)0.960:0.014936723)0.678:0.010489709)0.518:0.010456104,(((((cy.3:0.002763999,((cy.6:0.002763228,cy.4:0.003225292)0.994:0.000000005,(cy.5:0.002301811,rh.13:0.000459635)0.793:0.000000005)0.000:0.000000006)1.000:0.059977893,(rh.35:0.001377398,(rh.36:0.000924451,rh.37:0.001377487)0.826:0.000000005)1.000:0.032187497)1.000:0.038179383,(cy.2:0.027736913,(rh.54:0.011404269,(rh.55:0.010487788,(rh.48:0.000449307,rh.62:0.002723164)0.951:0.004197786)0.999:0.025111140)0.950:0.018295016)1.000:0.036919137)0.444:0.015752950,(hu.43:0.008850276,(hu.48:0.004358408,(hu.44:0.002049215,hu.46:0.005233629)1.000:0.025713930)0.999:0.010775713)1.000:0.124150892)0.999:0.033057626,((hu.14:0.007744906,(hu.31:0.001364273,hu.32:0.001373403)1.000:0.014135313)1.000:0.178247095,rh.43:0.060146312)0.889:0.021985470)0.895:0.015945070)1.000:0.031427893)0.311:0.001726521)0.913:0.000000005,rh.64:0.000902877)0.927:0.000000005,(((rh.57:0.003575718,rh.51:0.002647316)0.764:0.000570874,rh.49:0.003167973)0.397:0.000000005,rh.53:0.001354044)0.751:0.000000005)0.886:0.000000006,rh.50:0.001354279,(rh.52:0.001806706,hu.39:0.004075260)0.273:0.000000005);\n",
      "\u001b[K\u001b[7m(END)\u001b[m\u001b[K\u001b[m\u001b[K\u0007"
     ]
    }
   ],
   "source": [
    "!less tree.nwk"
   ]
  },
  {
   "cell_type": "code",
   "execution_count": 30,
   "metadata": {},
   "outputs": [
    {
     "data": {
      "image/png": "[encoded data removed]",
      "text/plain": [
       "<Figure size 432x288 with 1 Axes>"
      ]
     },
     "metadata": {
      "needs_background": "light"
     },
     "output_type": "display_data"
    }
   ],
   "source": [
    "# Now, read in the tree and visualize it:\n",
    "\n",
    "tree = Phylo.read('tree.nwk', 'newick')\n",
    "# print(tree)\n",
    "Phylo.draw(tree)\n",
    "#next(tree)\n",
    "# next(tree)"
   ]
  },
  {
   "cell_type": "code",
   "execution_count": 32,
   "metadata": {},
   "outputs": [
    {
     "name": "stdout",
     "output_type": "stream",
     "text": [
      " , rh.61\n",
      " |\n",
      " |_ rh.58\n",
      " |\n",
      " |                               , pi.2\n",
      " |           ____________________|\n",
      " |          |                    , pi.3\n",
      " |          |                    |\n",
      " |          |                    | pi.1\n",
      " |          |\n",
      " |          |           , rh.10\n",
      " |        __|          _|\n",
      " |       |  |         | , bb.1\n",
      " |       |  |         | |\n",
      " |       |  |  _______| | bb.2\n",
      " |       |  | |       |\n",
      " |       |  | |       | _ hu.17\n",
      " |       |  | |       ||\n",
      " |       |  |_|        | hu.6\n",
      " |       |    |\n",
      " |       |    |    _______ rh.2\n",
      " |       |    |   |\n",
      " |       |    |___|          __ rh.40\n",
      " |       |        |         |\n",
      " |       |        |_________|, hu.67\n",
      " |       |                  ||\n",
      " |       |                  |, hu.37\n",
      " |       |                   |\n",
      " |       |                   , hu.40\n",
      " |       |                   |\n",
      " |       |                   | hu.66\n",
      " |       |                   |\n",
      " |       |                   , hu.41\n",
      " |       |                   |\n",
      " |       |                   | rh.38\n",
      " |       |                   |\n",
      " |       |                   | hu.42\n",
      " |       |\n",
      " |_______|                                         , cy.3\n",
      " |       |                                         |\n",
      " |       |                          _______________, cy.6\n",
      " |       |                         |               |\n",
      " |       |                         |               | cy.4\n",
      " |       |                         |               |\n",
      " |       |                 ________|               , cy.5\n",
      " |       |                |        |               |\n",
      " |       |                |        |               | rh.13\n",
      " |       |                |        |\n",
      " |       |                |        |        , rh.35\n",
      " |       |             ___|        |________|\n",
      " |       |            |   |                 , rh.36\n",
      " |       |            |   |                 |\n",
      " |       |            |   |                 | rh.37\n",
      " |       |            |   |\n",
      " |       |            |   |         ______ cy.2\n",
      " |       |            |   |________|\n",
      " |       |            |            |     __ rh.54\n",
      " |       |    ________|            |____|\n",
      " |       |   |        |                 |      __ rh.55\n",
      " |       |   |        |                 |_____|\n",
      " |       |   |        |                       |, rh.48\n",
      " |       |   |        |                       ||\n",
      " |       |   |        |                        | rh.62\n",
      " |       |   |        |\n",
      " |       |   |        |                               __ hu.43\n",
      " |       |   |        |______________________________|\n",
      " |       |___|                                       |  , hu.48\n",
      " |           |                                       |__|\n",
      " |           |                                          |      , hu.44\n",
      " |           |                                          |______|\n",
      " |           |                                                 | hu.46\n",
      " |           |\n",
      " |           |                                                    _ hu.14\n",
      " |           |      _____________________________________________|\n",
      " |           |     |                                             |  , hu.31\n",
      " |           |_____|                                             |__|\n",
      " |                 |                                                | hu.32\n",
      " |                 |\n",
      " |                 |______________ rh.43\n",
      "_|\n",
      " | rh.64\n",
      " |\n",
      " , rh.57\n",
      " |\n",
      " | rh.51\n",
      " |\n",
      " | rh.49\n",
      " |\n",
      " | rh.53\n",
      " |\n",
      " | rh.50\n",
      " |\n",
      " , rh.52\n",
      " |\n",
      " | hu.39\n",
      "\n"
     ]
    }
   ],
   "source": [
    "# Visualizing using ascii:\n",
    "Phylo.draw_ascii(tree)"
   ]
  },
  {
   "cell_type": "code",
   "execution_count": null,
   "metadata": {},
   "outputs": [],
   "source": [
    "clusters = []"
   ]
  },
  {
   "cell_type": "code",
   "execution_count": 36,
   "metadata": {},
   "outputs": [
    {
     "name": "stdout",
     "output_type": "stream",
     "text": [
      "Collecting newick\r\n",
      "^C\r\n",
      "\u001b[31mERROR: Operation cancelled by user\u001b[0m\r\n"
     ]
    }
   ],
   "source": [
    "# I want to systematically find all clusters:\n",
    "    # Going to use Newick package, then import the tree, then\n",
    "        # find a list of all leafs s.t. its branch length is below a threshold\n",
    "        \n",
    "# !pip install newick\n",
    "# NVM, I'm not allowed to download here"
   ]
  },
  {
   "cell_type": "code",
   "execution_count": 52,
   "metadata": {},
   "outputs": [],
   "source": [
    "rep_sample = [\"pi.1\", \"rh.10\", \"hu.67\", \"cy.6\", \"rh.37\", \"rh.48\", \"hu.48\", \"hu.31\", \"rh.49\"]\n",
    "\n",
    "rep_sequences = [str(seqs.get(sample_i).seq) for sample_i in rep_sample]\n",
    "\n",
    "rep_sequences\n",
    "\n",
    "rep_records = [seqs.get(sample_i) for sample_i in rep_sample]\n"
   ]
  },
  {
   "cell_type": "code",
   "execution_count": 53,
   "metadata": {},
   "outputs": [],
   "source": [
    "# Writing these sequences to a file\n",
    "with open(\"2019_9_15_representativeSample.fasta\", \"w\") as output_handle:\n",
    "    SeqIO.write(rep_records, output_handle, \"fasta\")"
   ]
  },
  {
   "cell_type": "code",
   "execution_count": 54,
   "metadata": {},
   "outputs": [
    {
     "name": "stdout",
     "output_type": "stream",
     "text": [
      "19_9_11 BioE 131 Lab 1.ipynb\t      LICENSE\t      seqs.fa\r\n",
      "2019_9_15_aligned_seqs.fa\t      README.md       tree.nwk\r\n",
      "2019_9_15_representativeSample.fasta  Untitled.ipynb\r\n"
     ]
    }
   ],
   "source": [
    "! ls "
   ]
  },
  {
   "cell_type": "code",
   "execution_count": 46,
   "metadata": {},
   "outputs": [
    {
     "name": "stdout",
     "output_type": "stream",
     "text": [
      "/usr/bin/sh: blastn: command not found\r\n"
     ]
    }
   ],
   "source": [
    "# Results: Just the first few hits:\n",
    "# (Full results can be found here: ./2019_9_15_BLAST_search.asn)\n",
    "\n",
    "# pi.1: Adeno-associated virus isolate pi.1 capsid protein VP1 (cap) gene, complete cds\n",
    "# rh.10: Non-human primate Adeno-associated virus isolate AAVrh.10 capsid protein (VP1) gene, complete cds\n",
    "# hu.67: Adeno-associated virus isolate hu.67 capsid protein VP1 (cap) gene, complete cds\n",
    "# cy.6: Non-human primate Adeno-associated virus isolate AAVcy.6 capsid protein (VP1) gene, complete cds\n",
    "# ..."
   ]
  },
  {
   "cell_type": "code",
   "execution_count": null,
   "metadata": {},
   "outputs": [],
   "source": [
    "# Answers to questions:\n",
    "# What are some ways we can analyze them and figure out what their relationship is? \n",
    "# We can look at similarities in their sequence (since DNA is a linear molecule).\n",
    "\n",
    "# What are some properties of DNA sequences, and how can we compare them to each other? \n",
    "# They are linear sequences, and they are inherited with reasonable fidelity\n",
    "    # and some error. As such, we can predict the relationship between sequences\n",
    "    # and use it to compare the relationship of organisms. We can compare them\n",
    "    # using string comparison algorithms.\n",
    "    \n",
    "\n",
    "# Finally, head into iPython to load and visualize your tree using Bio.Phylo. Are there any obvious clusters of sequences? \n",
    "# Yes (see ascii art)\n",
    "# Are there any pairs or groups of sequences that seem very closely related? \n",
    "# Yes, you can see some regions that look like multi-forcations instead of boforcations\n",
    "\n",
    "# Any that are any sequences that seem far more distantly related than the others? \n",
    "# Yes, namely rh.61 and the {rh.57, ...} cluster appear to be outgroups\n",
    "\n",
    "# Answer to question: Why no trust BLAST \n",
    "\n",
    "# What are some of the most common matches for each cluster? Write them down in your lab notebook. \n",
    "# (See above)\n",
    "\n",
    "# Do they all match the same gene? Are there any that definitely do not match the others? \n",
    "# They all appear to match the protein VP1 of the Adeno-Associated Virus\n",
    "\n",
    "# Why might we not trust the annotations for sequences that come up in our BLAST? \n",
    "# BLAST can only search against known sequences. \n",
    "# Depending on the level of match, it may be giving us inaccurate results. For example,an 80% match to \n",
    "# a different organism may not be enough evidence to conclude that our sequence is from that organism"
   ]
  },
  {
   "cell_type": "code",
   "execution_count": null,
   "metadata": {},
   "outputs": [],
   "source": []
  },
  {
   "cell_type": "markdown",
   "metadata": {},
   "source": [
    "# *Finding the GC Content for all of them sequences*"
   ]
  },
  {
   "cell_type": "code",
   "execution_count": 61,
   "metadata": {},
   "outputs": [],
   "source": [
    "rep_seq_dict = {seqs.get(sample_i).id:str(seqs.get(sample_i).seq) for sample_i in rep_sample}\n",
    "# Creates a dictionary mapping each id to each sequence for the representative subset\n",
    "# rep_seq_dict"
   ]
  },
  {
   "cell_type": "code",
   "execution_count": 62,
   "metadata": {},
   "outputs": [],
   "source": [
    "rep_seq_GC = \n",
    "\n",
    "{seqs.get(sample_i).id:str(seqs.get(sample_i).seq) for sample_i in rep_seq_dict}"
   ]
  },
  {
   "cell_type": "code",
   "execution_count": null,
   "metadata": {},
   "outputs": [],
   "source": [
    "def calc_GC(seq):\n",
    "    gc_count = 0\n",
    "    total = 0\n",
    "    for letter in seq:\n",
    "        if (letrer == 'g' or letter)\n",
    "        gc_count "
   ]
  }
 ],
 "metadata": {
  "kernelspec": {
   "display_name": "Python 3",
   "language": "python",
   "name": "python3"
  },
  "language_info": {
   "codemirror_mode": {
    "name": "ipython",
    "version": 3
   },
   "file_extension": ".py",
   "mimetype": "text/x-python",
   "name": "python",
   "nbconvert_exporter": "python",
   "pygments_lexer": "ipython3",
   "version": "3.7.3"
  }
 },
 "nbformat": 4,
 "nbformat_minor": 2
}
